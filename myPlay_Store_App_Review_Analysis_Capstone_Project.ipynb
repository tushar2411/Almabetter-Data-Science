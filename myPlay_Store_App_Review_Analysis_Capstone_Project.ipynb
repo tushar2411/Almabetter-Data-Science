{
  "nbformat": 4,
  "nbformat_minor": 0,
  "metadata": {
    "colab": {
      "provenance": [],
      "collapsed_sections": [],
      "mount_file_id": "1mPjtrutGYpu39VtCr4l9BZ-FBGuPL2Yq",
      "authorship_tag": "ABX9TyNMKjz78j14QJ7XWw6YgXb3",
      "include_colab_link": true
    },
    "kernelspec": {
      "name": "python3",
      "display_name": "Python 3"
    },
    "language_info": {
      "name": "python"
    }
  },
  "cells": [
    {
      "cell_type": "markdown",
      "metadata": {
        "id": "view-in-github",
        "colab_type": "text"
      },
      "source": [
        "<a href=\"https://colab.research.google.com/github/tushar2411/Almabetter-Data-Science/blob/main/myPlay_Store_App_Review_Analysis_Capstone_Project.ipynb\" target=\"_parent\"><img src=\"https://colab.research.google.com/assets/colab-badge.svg\" alt=\"Open In Colab\"/></a>"
      ]
    },
    {
      "cell_type": "markdown",
      "source": [
        "#The Play Store apps data has enormous potential to drive app-making businesses to success. Actionable insights can be drawn for developers to work on and capture the Android market.\n",
        "#Each app (row) has values for catergory, rating, size, and more. Another dataset contains customer reviews of the android apps.\n",
        "#Explore and analyze the data to discover key factors responsible for app engagement and success."
      ],
      "metadata": {
        "id": "HBnZ4rGCiRb3"
      }
    },
    {
      "cell_type": "code",
      "execution_count": 67,
      "metadata": {
        "id": "uemo8F7PiN0H"
      },
      "outputs": [],
      "source": [
        "import pandas as pd\n",
        "import numpy as np\n",
        "import matplotlib.pyplot as plt\n",
        "import seaborn as sns\n",
        "%matplotlib inline"
      ]
    },
    {
      "cell_type": "code",
      "source": [
        "from google.colab import drive\n",
        "drive.mount('/content/drive')"
      ],
      "metadata": {
        "colab": {
          "base_uri": "https://localhost:8080/"
        },
        "id": "IBZH7SKfiipa",
        "outputId": "fd2ab52b-4b6d-47ea-b6ca-6f08f9359644"
      },
      "execution_count": 71,
      "outputs": [
        {
          "output_type": "stream",
          "name": "stdout",
          "text": [
            "Drive already mounted at /content/drive; to attempt to forcibly remount, call drive.mount(\"/content/drive\", force_remount=True).\n"
          ]
        }
      ]
    },
    {
      "cell_type": "code",
      "source": [
        "playSdata = pd.read_csv('/content/drive/MyDrive/Alambetter/Capstone Project 1/Play Store App Review Analysis/Play Store Data.csv')"
      ],
      "metadata": {
        "id": "Hlghu1R2itNV"
      },
      "execution_count": 72,
      "outputs": []
    },
    {
      "cell_type": "code",
      "source": [
        "playSdata.shape"
      ],
      "metadata": {
        "colab": {
          "base_uri": "https://localhost:8080/"
        },
        "id": "DPGKZ4qNjIDq",
        "outputId": "2f786188-142c-47e3-acb5-35603ac758de"
      },
      "execution_count": 73,
      "outputs": [
        {
          "output_type": "execute_result",
          "data": {
            "text/plain": [
              "(10841, 13)"
            ]
          },
          "metadata": {},
          "execution_count": 73
        }
      ]
    },
    {
      "cell_type": "code",
      "source": [
        "playSdata.columns"
      ],
      "metadata": {
        "colab": {
          "base_uri": "https://localhost:8080/"
        },
        "id": "t9ol6y06jLHs",
        "outputId": "cd8d7ea9-2e6a-44a7-c5f7-24adc76631c2"
      },
      "execution_count": 74,
      "outputs": [
        {
          "output_type": "execute_result",
          "data": {
            "text/plain": [
              "Index(['App', 'Category', 'Rating', 'Reviews', 'Size', 'Installs', 'Type',\n",
              "       'Price', 'Content Rating', 'Genres', 'Last Updated', 'Current Ver',\n",
              "       'Android Ver'],\n",
              "      dtype='object')"
            ]
          },
          "metadata": {},
          "execution_count": 74
        }
      ]
    },
    {
      "cell_type": "code",
      "source": [
        "playSdata.head()"
      ],
      "metadata": {
        "colab": {
          "base_uri": "https://localhost:8080/",
          "height": 337
        },
        "id": "_8kKEu2rjYvu",
        "outputId": "0ae66339-35de-4a6b-9eb2-4ce7bd8d972c"
      },
      "execution_count": 75,
      "outputs": [
        {
          "output_type": "execute_result",
          "data": {
            "text/plain": [
              "                                                 App        Category  Rating  \\\n",
              "0     Photo Editor & Candy Camera & Grid & ScrapBook  ART_AND_DESIGN     4.1   \n",
              "1                                Coloring book moana  ART_AND_DESIGN     3.9   \n",
              "2  U Launcher Lite – FREE Live Cool Themes, Hide ...  ART_AND_DESIGN     4.7   \n",
              "3                              Sketch - Draw & Paint  ART_AND_DESIGN     4.5   \n",
              "4              Pixel Draw - Number Art Coloring Book  ART_AND_DESIGN     4.3   \n",
              "\n",
              "  Reviews  Size     Installs  Type Price Content Rating  \\\n",
              "0     159   19M      10,000+  Free     0       Everyone   \n",
              "1     967   14M     500,000+  Free     0       Everyone   \n",
              "2   87510  8.7M   5,000,000+  Free     0       Everyone   \n",
              "3  215644   25M  50,000,000+  Free     0           Teen   \n",
              "4     967  2.8M     100,000+  Free     0       Everyone   \n",
              "\n",
              "                      Genres      Last Updated         Current Ver  \\\n",
              "0               Art & Design   January 7, 2018               1.0.0   \n",
              "1  Art & Design;Pretend Play  January 15, 2018               2.0.0   \n",
              "2               Art & Design    August 1, 2018               1.2.4   \n",
              "3               Art & Design      June 8, 2018  Varies with device   \n",
              "4    Art & Design;Creativity     June 20, 2018                 1.1   \n",
              "\n",
              "    Android Ver  \n",
              "0  4.0.3 and up  \n",
              "1  4.0.3 and up  \n",
              "2  4.0.3 and up  \n",
              "3    4.2 and up  \n",
              "4    4.4 and up  "
            ],
            "text/html": [
              "\n",
              "  <div id=\"df-e2399d5f-6297-47e1-b7a5-bdc63c70be06\">\n",
              "    <div class=\"colab-df-container\">\n",
              "      <div>\n",
              "<style scoped>\n",
              "    .dataframe tbody tr th:only-of-type {\n",
              "        vertical-align: middle;\n",
              "    }\n",
              "\n",
              "    .dataframe tbody tr th {\n",
              "        vertical-align: top;\n",
              "    }\n",
              "\n",
              "    .dataframe thead th {\n",
              "        text-align: right;\n",
              "    }\n",
              "</style>\n",
              "<table border=\"1\" class=\"dataframe\">\n",
              "  <thead>\n",
              "    <tr style=\"text-align: right;\">\n",
              "      <th></th>\n",
              "      <th>App</th>\n",
              "      <th>Category</th>\n",
              "      <th>Rating</th>\n",
              "      <th>Reviews</th>\n",
              "      <th>Size</th>\n",
              "      <th>Installs</th>\n",
              "      <th>Type</th>\n",
              "      <th>Price</th>\n",
              "      <th>Content Rating</th>\n",
              "      <th>Genres</th>\n",
              "      <th>Last Updated</th>\n",
              "      <th>Current Ver</th>\n",
              "      <th>Android Ver</th>\n",
              "    </tr>\n",
              "  </thead>\n",
              "  <tbody>\n",
              "    <tr>\n",
              "      <th>0</th>\n",
              "      <td>Photo Editor &amp; Candy Camera &amp; Grid &amp; ScrapBook</td>\n",
              "      <td>ART_AND_DESIGN</td>\n",
              "      <td>4.1</td>\n",
              "      <td>159</td>\n",
              "      <td>19M</td>\n",
              "      <td>10,000+</td>\n",
              "      <td>Free</td>\n",
              "      <td>0</td>\n",
              "      <td>Everyone</td>\n",
              "      <td>Art &amp; Design</td>\n",
              "      <td>January 7, 2018</td>\n",
              "      <td>1.0.0</td>\n",
              "      <td>4.0.3 and up</td>\n",
              "    </tr>\n",
              "    <tr>\n",
              "      <th>1</th>\n",
              "      <td>Coloring book moana</td>\n",
              "      <td>ART_AND_DESIGN</td>\n",
              "      <td>3.9</td>\n",
              "      <td>967</td>\n",
              "      <td>14M</td>\n",
              "      <td>500,000+</td>\n",
              "      <td>Free</td>\n",
              "      <td>0</td>\n",
              "      <td>Everyone</td>\n",
              "      <td>Art &amp; Design;Pretend Play</td>\n",
              "      <td>January 15, 2018</td>\n",
              "      <td>2.0.0</td>\n",
              "      <td>4.0.3 and up</td>\n",
              "    </tr>\n",
              "    <tr>\n",
              "      <th>2</th>\n",
              "      <td>U Launcher Lite – FREE Live Cool Themes, Hide ...</td>\n",
              "      <td>ART_AND_DESIGN</td>\n",
              "      <td>4.7</td>\n",
              "      <td>87510</td>\n",
              "      <td>8.7M</td>\n",
              "      <td>5,000,000+</td>\n",
              "      <td>Free</td>\n",
              "      <td>0</td>\n",
              "      <td>Everyone</td>\n",
              "      <td>Art &amp; Design</td>\n",
              "      <td>August 1, 2018</td>\n",
              "      <td>1.2.4</td>\n",
              "      <td>4.0.3 and up</td>\n",
              "    </tr>\n",
              "    <tr>\n",
              "      <th>3</th>\n",
              "      <td>Sketch - Draw &amp; Paint</td>\n",
              "      <td>ART_AND_DESIGN</td>\n",
              "      <td>4.5</td>\n",
              "      <td>215644</td>\n",
              "      <td>25M</td>\n",
              "      <td>50,000,000+</td>\n",
              "      <td>Free</td>\n",
              "      <td>0</td>\n",
              "      <td>Teen</td>\n",
              "      <td>Art &amp; Design</td>\n",
              "      <td>June 8, 2018</td>\n",
              "      <td>Varies with device</td>\n",
              "      <td>4.2 and up</td>\n",
              "    </tr>\n",
              "    <tr>\n",
              "      <th>4</th>\n",
              "      <td>Pixel Draw - Number Art Coloring Book</td>\n",
              "      <td>ART_AND_DESIGN</td>\n",
              "      <td>4.3</td>\n",
              "      <td>967</td>\n",
              "      <td>2.8M</td>\n",
              "      <td>100,000+</td>\n",
              "      <td>Free</td>\n",
              "      <td>0</td>\n",
              "      <td>Everyone</td>\n",
              "      <td>Art &amp; Design;Creativity</td>\n",
              "      <td>June 20, 2018</td>\n",
              "      <td>1.1</td>\n",
              "      <td>4.4 and up</td>\n",
              "    </tr>\n",
              "  </tbody>\n",
              "</table>\n",
              "</div>\n",
              "      <button class=\"colab-df-convert\" onclick=\"convertToInteractive('df-e2399d5f-6297-47e1-b7a5-bdc63c70be06')\"\n",
              "              title=\"Convert this dataframe to an interactive table.\"\n",
              "              style=\"display:none;\">\n",
              "        \n",
              "  <svg xmlns=\"http://www.w3.org/2000/svg\" height=\"24px\"viewBox=\"0 0 24 24\"\n",
              "       width=\"24px\">\n",
              "    <path d=\"M0 0h24v24H0V0z\" fill=\"none\"/>\n",
              "    <path d=\"M18.56 5.44l.94 2.06.94-2.06 2.06-.94-2.06-.94-.94-2.06-.94 2.06-2.06.94zm-11 1L8.5 8.5l.94-2.06 2.06-.94-2.06-.94L8.5 2.5l-.94 2.06-2.06.94zm10 10l.94 2.06.94-2.06 2.06-.94-2.06-.94-.94-2.06-.94 2.06-2.06.94z\"/><path d=\"M17.41 7.96l-1.37-1.37c-.4-.4-.92-.59-1.43-.59-.52 0-1.04.2-1.43.59L10.3 9.45l-7.72 7.72c-.78.78-.78 2.05 0 2.83L4 21.41c.39.39.9.59 1.41.59.51 0 1.02-.2 1.41-.59l7.78-7.78 2.81-2.81c.8-.78.8-2.07 0-2.86zM5.41 20L4 18.59l7.72-7.72 1.47 1.35L5.41 20z\"/>\n",
              "  </svg>\n",
              "      </button>\n",
              "      \n",
              "  <style>\n",
              "    .colab-df-container {\n",
              "      display:flex;\n",
              "      flex-wrap:wrap;\n",
              "      gap: 12px;\n",
              "    }\n",
              "\n",
              "    .colab-df-convert {\n",
              "      background-color: #E8F0FE;\n",
              "      border: none;\n",
              "      border-radius: 50%;\n",
              "      cursor: pointer;\n",
              "      display: none;\n",
              "      fill: #1967D2;\n",
              "      height: 32px;\n",
              "      padding: 0 0 0 0;\n",
              "      width: 32px;\n",
              "    }\n",
              "\n",
              "    .colab-df-convert:hover {\n",
              "      background-color: #E2EBFA;\n",
              "      box-shadow: 0px 1px 2px rgba(60, 64, 67, 0.3), 0px 1px 3px 1px rgba(60, 64, 67, 0.15);\n",
              "      fill: #174EA6;\n",
              "    }\n",
              "\n",
              "    [theme=dark] .colab-df-convert {\n",
              "      background-color: #3B4455;\n",
              "      fill: #D2E3FC;\n",
              "    }\n",
              "\n",
              "    [theme=dark] .colab-df-convert:hover {\n",
              "      background-color: #434B5C;\n",
              "      box-shadow: 0px 1px 3px 1px rgba(0, 0, 0, 0.15);\n",
              "      filter: drop-shadow(0px 1px 2px rgba(0, 0, 0, 0.3));\n",
              "      fill: #FFFFFF;\n",
              "    }\n",
              "  </style>\n",
              "\n",
              "      <script>\n",
              "        const buttonEl =\n",
              "          document.querySelector('#df-e2399d5f-6297-47e1-b7a5-bdc63c70be06 button.colab-df-convert');\n",
              "        buttonEl.style.display =\n",
              "          google.colab.kernel.accessAllowed ? 'block' : 'none';\n",
              "\n",
              "        async function convertToInteractive(key) {\n",
              "          const element = document.querySelector('#df-e2399d5f-6297-47e1-b7a5-bdc63c70be06');\n",
              "          const dataTable =\n",
              "            await google.colab.kernel.invokeFunction('convertToInteractive',\n",
              "                                                     [key], {});\n",
              "          if (!dataTable) return;\n",
              "\n",
              "          const docLinkHtml = 'Like what you see? Visit the ' +\n",
              "            '<a target=\"_blank\" href=https://colab.research.google.com/notebooks/data_table.ipynb>data table notebook</a>'\n",
              "            + ' to learn more about interactive tables.';\n",
              "          element.innerHTML = '';\n",
              "          dataTable['output_type'] = 'display_data';\n",
              "          await google.colab.output.renderOutput(dataTable, element);\n",
              "          const docLink = document.createElement('div');\n",
              "          docLink.innerHTML = docLinkHtml;\n",
              "          element.appendChild(docLink);\n",
              "        }\n",
              "      </script>\n",
              "    </div>\n",
              "  </div>\n",
              "  "
            ]
          },
          "metadata": {},
          "execution_count": 75
        }
      ]
    },
    {
      "cell_type": "code",
      "source": [
        "playSdata.info()"
      ],
      "metadata": {
        "colab": {
          "base_uri": "https://localhost:8080/"
        },
        "id": "suBMlJZvP0NF",
        "outputId": "4c6eaaba-d717-4a49-9718-4c8f8d2cfad5"
      },
      "execution_count": 76,
      "outputs": [
        {
          "output_type": "stream",
          "name": "stdout",
          "text": [
            "<class 'pandas.core.frame.DataFrame'>\n",
            "RangeIndex: 10841 entries, 0 to 10840\n",
            "Data columns (total 13 columns):\n",
            " #   Column          Non-Null Count  Dtype  \n",
            "---  ------          --------------  -----  \n",
            " 0   App             10841 non-null  object \n",
            " 1   Category        10841 non-null  object \n",
            " 2   Rating          9367 non-null   float64\n",
            " 3   Reviews         10841 non-null  object \n",
            " 4   Size            10841 non-null  object \n",
            " 5   Installs        10841 non-null  object \n",
            " 6   Type            10840 non-null  object \n",
            " 7   Price           10841 non-null  object \n",
            " 8   Content Rating  10840 non-null  object \n",
            " 9   Genres          10841 non-null  object \n",
            " 10  Last Updated    10841 non-null  object \n",
            " 11  Current Ver     10833 non-null  object \n",
            " 12  Android Ver     10838 non-null  object \n",
            "dtypes: float64(1), object(12)\n",
            "memory usage: 1.1+ MB\n"
          ]
        }
      ]
    },
    {
      "cell_type": "markdown",
      "source": [
        "#1) Data Cleaning"
      ],
      "metadata": {
        "id": "coqi6_XfkF5y"
      }
    },
    {
      "cell_type": "markdown",
      "source": [
        "#*We can wee that some column names are having spaces to their names. So we'll replace them with \"_\" so it will be avoid case sensitivity while analyzing the data*"
      ],
      "metadata": {
        "id": "Fn4GEhzgkHoN"
      }
    },
    {
      "cell_type": "code",
      "source": [
        "playSdata.columns = [col.replace(' ','_') for col in list(playSdata.columns)]"
      ],
      "metadata": {
        "id": "sqhbGIwIkAu5"
      },
      "execution_count": 81,
      "outputs": []
    },
    {
      "cell_type": "code",
      "source": [
        "playSdata.columns"
      ],
      "metadata": {
        "colab": {
          "base_uri": "https://localhost:8080/"
        },
        "id": "QU-dui71kRO6",
        "outputId": "70e1e48b-a0fc-41f3-9652-36c61644ac4d"
      },
      "execution_count": 82,
      "outputs": [
        {
          "output_type": "execute_result",
          "data": {
            "text/plain": [
              "Index(['App', 'Category', 'Rating', 'Reviews', 'Size', 'Installs', 'Type',\n",
              "       'Price', 'Content_Rating', 'Genres', 'Last_Updated', 'Current_Ver',\n",
              "       'Android_Ver'],\n",
              "      dtype='object')"
            ]
          },
          "metadata": {},
          "execution_count": 82
        }
      ]
    },
    {
      "cell_type": "code",
      "source": [
        "playSdata.describe()"
      ],
      "metadata": {
        "colab": {
          "base_uri": "https://localhost:8080/",
          "height": 300
        },
        "id": "alMsRaBuPg91",
        "outputId": "de6e3e16-1c72-4a4e-e02b-5ee5dde94e26"
      },
      "execution_count": 77,
      "outputs": [
        {
          "output_type": "execute_result",
          "data": {
            "text/plain": [
              "            Rating\n",
              "count  9367.000000\n",
              "mean      4.193338\n",
              "std       0.537431\n",
              "min       1.000000\n",
              "25%       4.000000\n",
              "50%       4.300000\n",
              "75%       4.500000\n",
              "max      19.000000"
            ],
            "text/html": [
              "\n",
              "  <div id=\"df-2d6aa4d5-2aff-468b-8af0-3b6ead573c89\">\n",
              "    <div class=\"colab-df-container\">\n",
              "      <div>\n",
              "<style scoped>\n",
              "    .dataframe tbody tr th:only-of-type {\n",
              "        vertical-align: middle;\n",
              "    }\n",
              "\n",
              "    .dataframe tbody tr th {\n",
              "        vertical-align: top;\n",
              "    }\n",
              "\n",
              "    .dataframe thead th {\n",
              "        text-align: right;\n",
              "    }\n",
              "</style>\n",
              "<table border=\"1\" class=\"dataframe\">\n",
              "  <thead>\n",
              "    <tr style=\"text-align: right;\">\n",
              "      <th></th>\n",
              "      <th>Rating</th>\n",
              "    </tr>\n",
              "  </thead>\n",
              "  <tbody>\n",
              "    <tr>\n",
              "      <th>count</th>\n",
              "      <td>9367.000000</td>\n",
              "    </tr>\n",
              "    <tr>\n",
              "      <th>mean</th>\n",
              "      <td>4.193338</td>\n",
              "    </tr>\n",
              "    <tr>\n",
              "      <th>std</th>\n",
              "      <td>0.537431</td>\n",
              "    </tr>\n",
              "    <tr>\n",
              "      <th>min</th>\n",
              "      <td>1.000000</td>\n",
              "    </tr>\n",
              "    <tr>\n",
              "      <th>25%</th>\n",
              "      <td>4.000000</td>\n",
              "    </tr>\n",
              "    <tr>\n",
              "      <th>50%</th>\n",
              "      <td>4.300000</td>\n",
              "    </tr>\n",
              "    <tr>\n",
              "      <th>75%</th>\n",
              "      <td>4.500000</td>\n",
              "    </tr>\n",
              "    <tr>\n",
              "      <th>max</th>\n",
              "      <td>19.000000</td>\n",
              "    </tr>\n",
              "  </tbody>\n",
              "</table>\n",
              "</div>\n",
              "      <button class=\"colab-df-convert\" onclick=\"convertToInteractive('df-2d6aa4d5-2aff-468b-8af0-3b6ead573c89')\"\n",
              "              title=\"Convert this dataframe to an interactive table.\"\n",
              "              style=\"display:none;\">\n",
              "        \n",
              "  <svg xmlns=\"http://www.w3.org/2000/svg\" height=\"24px\"viewBox=\"0 0 24 24\"\n",
              "       width=\"24px\">\n",
              "    <path d=\"M0 0h24v24H0V0z\" fill=\"none\"/>\n",
              "    <path d=\"M18.56 5.44l.94 2.06.94-2.06 2.06-.94-2.06-.94-.94-2.06-.94 2.06-2.06.94zm-11 1L8.5 8.5l.94-2.06 2.06-.94-2.06-.94L8.5 2.5l-.94 2.06-2.06.94zm10 10l.94 2.06.94-2.06 2.06-.94-2.06-.94-.94-2.06-.94 2.06-2.06.94z\"/><path d=\"M17.41 7.96l-1.37-1.37c-.4-.4-.92-.59-1.43-.59-.52 0-1.04.2-1.43.59L10.3 9.45l-7.72 7.72c-.78.78-.78 2.05 0 2.83L4 21.41c.39.39.9.59 1.41.59.51 0 1.02-.2 1.41-.59l7.78-7.78 2.81-2.81c.8-.78.8-2.07 0-2.86zM5.41 20L4 18.59l7.72-7.72 1.47 1.35L5.41 20z\"/>\n",
              "  </svg>\n",
              "      </button>\n",
              "      \n",
              "  <style>\n",
              "    .colab-df-container {\n",
              "      display:flex;\n",
              "      flex-wrap:wrap;\n",
              "      gap: 12px;\n",
              "    }\n",
              "\n",
              "    .colab-df-convert {\n",
              "      background-color: #E8F0FE;\n",
              "      border: none;\n",
              "      border-radius: 50%;\n",
              "      cursor: pointer;\n",
              "      display: none;\n",
              "      fill: #1967D2;\n",
              "      height: 32px;\n",
              "      padding: 0 0 0 0;\n",
              "      width: 32px;\n",
              "    }\n",
              "\n",
              "    .colab-df-convert:hover {\n",
              "      background-color: #E2EBFA;\n",
              "      box-shadow: 0px 1px 2px rgba(60, 64, 67, 0.3), 0px 1px 3px 1px rgba(60, 64, 67, 0.15);\n",
              "      fill: #174EA6;\n",
              "    }\n",
              "\n",
              "    [theme=dark] .colab-df-convert {\n",
              "      background-color: #3B4455;\n",
              "      fill: #D2E3FC;\n",
              "    }\n",
              "\n",
              "    [theme=dark] .colab-df-convert:hover {\n",
              "      background-color: #434B5C;\n",
              "      box-shadow: 0px 1px 3px 1px rgba(0, 0, 0, 0.15);\n",
              "      filter: drop-shadow(0px 1px 2px rgba(0, 0, 0, 0.3));\n",
              "      fill: #FFFFFF;\n",
              "    }\n",
              "  </style>\n",
              "\n",
              "      <script>\n",
              "        const buttonEl =\n",
              "          document.querySelector('#df-2d6aa4d5-2aff-468b-8af0-3b6ead573c89 button.colab-df-convert');\n",
              "        buttonEl.style.display =\n",
              "          google.colab.kernel.accessAllowed ? 'block' : 'none';\n",
              "\n",
              "        async function convertToInteractive(key) {\n",
              "          const element = document.querySelector('#df-2d6aa4d5-2aff-468b-8af0-3b6ead573c89');\n",
              "          const dataTable =\n",
              "            await google.colab.kernel.invokeFunction('convertToInteractive',\n",
              "                                                     [key], {});\n",
              "          if (!dataTable) return;\n",
              "\n",
              "          const docLinkHtml = 'Like what you see? Visit the ' +\n",
              "            '<a target=\"_blank\" href=https://colab.research.google.com/notebooks/data_table.ipynb>data table notebook</a>'\n",
              "            + ' to learn more about interactive tables.';\n",
              "          element.innerHTML = '';\n",
              "          dataTable['output_type'] = 'display_data';\n",
              "          await google.colab.output.renderOutput(dataTable, element);\n",
              "          const docLink = document.createElement('div');\n",
              "          docLink.innerHTML = docLinkHtml;\n",
              "          element.appendChild(docLink);\n",
              "        }\n",
              "      </script>\n",
              "    </div>\n",
              "  </div>\n",
              "  "
            ]
          },
          "metadata": {},
          "execution_count": 77
        }
      ]
    },
    {
      "cell_type": "code",
      "source": [
        "data1  = playSdata.head()\n",
        "data2  = playSdata.tail()\n",
        "concatData = pd.concat([data1,data2],axis=0,ignore_index=True)"
      ],
      "metadata": {
        "id": "Jb4BUCvujiVo"
      },
      "execution_count": 78,
      "outputs": []
    },
    {
      "cell_type": "code",
      "source": [
        "concatData"
      ],
      "metadata": {
        "colab": {
          "base_uri": "https://localhost:8080/",
          "height": 563
        },
        "id": "r_vZBLzOj5PY",
        "outputId": "f017ed31-ff44-44b6-fad6-9c5a6c7a8a45"
      },
      "execution_count": 79,
      "outputs": [
        {
          "output_type": "execute_result",
          "data": {
            "text/plain": [
              "                                                 App             Category  \\\n",
              "0     Photo Editor & Candy Camera & Grid & ScrapBook       ART_AND_DESIGN   \n",
              "1                                Coloring book moana       ART_AND_DESIGN   \n",
              "2  U Launcher Lite – FREE Live Cool Themes, Hide ...       ART_AND_DESIGN   \n",
              "3                              Sketch - Draw & Paint       ART_AND_DESIGN   \n",
              "4              Pixel Draw - Number Art Coloring Book       ART_AND_DESIGN   \n",
              "5                                   Sya9a Maroc - FR               FAMILY   \n",
              "6                   Fr. Mike Schmitz Audio Teachings               FAMILY   \n",
              "7                             Parkinson Exercices FR              MEDICAL   \n",
              "8                      The SCP Foundation DB fr nn5n  BOOKS_AND_REFERENCE   \n",
              "9      iHoroscope - 2018 Daily Horoscope & Astrology            LIFESTYLE   \n",
              "\n",
              "   Rating Reviews                Size     Installs  Type Price Content Rating  \\\n",
              "0     4.1     159                 19M      10,000+  Free     0       Everyone   \n",
              "1     3.9     967                 14M     500,000+  Free     0       Everyone   \n",
              "2     4.7   87510                8.7M   5,000,000+  Free     0       Everyone   \n",
              "3     4.5  215644                 25M  50,000,000+  Free     0           Teen   \n",
              "4     4.3     967                2.8M     100,000+  Free     0       Everyone   \n",
              "5     4.5      38                 53M       5,000+  Free     0       Everyone   \n",
              "6     5.0       4                3.6M         100+  Free     0       Everyone   \n",
              "7     NaN       3                9.5M       1,000+  Free     0       Everyone   \n",
              "8     4.5     114  Varies with device       1,000+  Free     0     Mature 17+   \n",
              "9     4.5  398307                 19M  10,000,000+  Free     0       Everyone   \n",
              "\n",
              "                      Genres      Last Updated         Current Ver  \\\n",
              "0               Art & Design   January 7, 2018               1.0.0   \n",
              "1  Art & Design;Pretend Play  January 15, 2018               2.0.0   \n",
              "2               Art & Design    August 1, 2018               1.2.4   \n",
              "3               Art & Design      June 8, 2018  Varies with device   \n",
              "4    Art & Design;Creativity     June 20, 2018                 1.1   \n",
              "5                  Education     July 25, 2017                1.48   \n",
              "6                  Education      July 6, 2018                 1.0   \n",
              "7                    Medical  January 20, 2017                 1.0   \n",
              "8          Books & Reference  January 19, 2015  Varies with device   \n",
              "9                  Lifestyle     July 25, 2018  Varies with device   \n",
              "\n",
              "          Android Ver  \n",
              "0        4.0.3 and up  \n",
              "1        4.0.3 and up  \n",
              "2        4.0.3 and up  \n",
              "3          4.2 and up  \n",
              "4          4.4 and up  \n",
              "5          4.1 and up  \n",
              "6          4.1 and up  \n",
              "7          2.2 and up  \n",
              "8  Varies with device  \n",
              "9  Varies with device  "
            ],
            "text/html": [
              "\n",
              "  <div id=\"df-f3caf68d-5266-4efc-8a7d-a539d0341d27\">\n",
              "    <div class=\"colab-df-container\">\n",
              "      <div>\n",
              "<style scoped>\n",
              "    .dataframe tbody tr th:only-of-type {\n",
              "        vertical-align: middle;\n",
              "    }\n",
              "\n",
              "    .dataframe tbody tr th {\n",
              "        vertical-align: top;\n",
              "    }\n",
              "\n",
              "    .dataframe thead th {\n",
              "        text-align: right;\n",
              "    }\n",
              "</style>\n",
              "<table border=\"1\" class=\"dataframe\">\n",
              "  <thead>\n",
              "    <tr style=\"text-align: right;\">\n",
              "      <th></th>\n",
              "      <th>App</th>\n",
              "      <th>Category</th>\n",
              "      <th>Rating</th>\n",
              "      <th>Reviews</th>\n",
              "      <th>Size</th>\n",
              "      <th>Installs</th>\n",
              "      <th>Type</th>\n",
              "      <th>Price</th>\n",
              "      <th>Content Rating</th>\n",
              "      <th>Genres</th>\n",
              "      <th>Last Updated</th>\n",
              "      <th>Current Ver</th>\n",
              "      <th>Android Ver</th>\n",
              "    </tr>\n",
              "  </thead>\n",
              "  <tbody>\n",
              "    <tr>\n",
              "      <th>0</th>\n",
              "      <td>Photo Editor &amp; Candy Camera &amp; Grid &amp; ScrapBook</td>\n",
              "      <td>ART_AND_DESIGN</td>\n",
              "      <td>4.1</td>\n",
              "      <td>159</td>\n",
              "      <td>19M</td>\n",
              "      <td>10,000+</td>\n",
              "      <td>Free</td>\n",
              "      <td>0</td>\n",
              "      <td>Everyone</td>\n",
              "      <td>Art &amp; Design</td>\n",
              "      <td>January 7, 2018</td>\n",
              "      <td>1.0.0</td>\n",
              "      <td>4.0.3 and up</td>\n",
              "    </tr>\n",
              "    <tr>\n",
              "      <th>1</th>\n",
              "      <td>Coloring book moana</td>\n",
              "      <td>ART_AND_DESIGN</td>\n",
              "      <td>3.9</td>\n",
              "      <td>967</td>\n",
              "      <td>14M</td>\n",
              "      <td>500,000+</td>\n",
              "      <td>Free</td>\n",
              "      <td>0</td>\n",
              "      <td>Everyone</td>\n",
              "      <td>Art &amp; Design;Pretend Play</td>\n",
              "      <td>January 15, 2018</td>\n",
              "      <td>2.0.0</td>\n",
              "      <td>4.0.3 and up</td>\n",
              "    </tr>\n",
              "    <tr>\n",
              "      <th>2</th>\n",
              "      <td>U Launcher Lite – FREE Live Cool Themes, Hide ...</td>\n",
              "      <td>ART_AND_DESIGN</td>\n",
              "      <td>4.7</td>\n",
              "      <td>87510</td>\n",
              "      <td>8.7M</td>\n",
              "      <td>5,000,000+</td>\n",
              "      <td>Free</td>\n",
              "      <td>0</td>\n",
              "      <td>Everyone</td>\n",
              "      <td>Art &amp; Design</td>\n",
              "      <td>August 1, 2018</td>\n",
              "      <td>1.2.4</td>\n",
              "      <td>4.0.3 and up</td>\n",
              "    </tr>\n",
              "    <tr>\n",
              "      <th>3</th>\n",
              "      <td>Sketch - Draw &amp; Paint</td>\n",
              "      <td>ART_AND_DESIGN</td>\n",
              "      <td>4.5</td>\n",
              "      <td>215644</td>\n",
              "      <td>25M</td>\n",
              "      <td>50,000,000+</td>\n",
              "      <td>Free</td>\n",
              "      <td>0</td>\n",
              "      <td>Teen</td>\n",
              "      <td>Art &amp; Design</td>\n",
              "      <td>June 8, 2018</td>\n",
              "      <td>Varies with device</td>\n",
              "      <td>4.2 and up</td>\n",
              "    </tr>\n",
              "    <tr>\n",
              "      <th>4</th>\n",
              "      <td>Pixel Draw - Number Art Coloring Book</td>\n",
              "      <td>ART_AND_DESIGN</td>\n",
              "      <td>4.3</td>\n",
              "      <td>967</td>\n",
              "      <td>2.8M</td>\n",
              "      <td>100,000+</td>\n",
              "      <td>Free</td>\n",
              "      <td>0</td>\n",
              "      <td>Everyone</td>\n",
              "      <td>Art &amp; Design;Creativity</td>\n",
              "      <td>June 20, 2018</td>\n",
              "      <td>1.1</td>\n",
              "      <td>4.4 and up</td>\n",
              "    </tr>\n",
              "    <tr>\n",
              "      <th>5</th>\n",
              "      <td>Sya9a Maroc - FR</td>\n",
              "      <td>FAMILY</td>\n",
              "      <td>4.5</td>\n",
              "      <td>38</td>\n",
              "      <td>53M</td>\n",
              "      <td>5,000+</td>\n",
              "      <td>Free</td>\n",
              "      <td>0</td>\n",
              "      <td>Everyone</td>\n",
              "      <td>Education</td>\n",
              "      <td>July 25, 2017</td>\n",
              "      <td>1.48</td>\n",
              "      <td>4.1 and up</td>\n",
              "    </tr>\n",
              "    <tr>\n",
              "      <th>6</th>\n",
              "      <td>Fr. Mike Schmitz Audio Teachings</td>\n",
              "      <td>FAMILY</td>\n",
              "      <td>5.0</td>\n",
              "      <td>4</td>\n",
              "      <td>3.6M</td>\n",
              "      <td>100+</td>\n",
              "      <td>Free</td>\n",
              "      <td>0</td>\n",
              "      <td>Everyone</td>\n",
              "      <td>Education</td>\n",
              "      <td>July 6, 2018</td>\n",
              "      <td>1.0</td>\n",
              "      <td>4.1 and up</td>\n",
              "    </tr>\n",
              "    <tr>\n",
              "      <th>7</th>\n",
              "      <td>Parkinson Exercices FR</td>\n",
              "      <td>MEDICAL</td>\n",
              "      <td>NaN</td>\n",
              "      <td>3</td>\n",
              "      <td>9.5M</td>\n",
              "      <td>1,000+</td>\n",
              "      <td>Free</td>\n",
              "      <td>0</td>\n",
              "      <td>Everyone</td>\n",
              "      <td>Medical</td>\n",
              "      <td>January 20, 2017</td>\n",
              "      <td>1.0</td>\n",
              "      <td>2.2 and up</td>\n",
              "    </tr>\n",
              "    <tr>\n",
              "      <th>8</th>\n",
              "      <td>The SCP Foundation DB fr nn5n</td>\n",
              "      <td>BOOKS_AND_REFERENCE</td>\n",
              "      <td>4.5</td>\n",
              "      <td>114</td>\n",
              "      <td>Varies with device</td>\n",
              "      <td>1,000+</td>\n",
              "      <td>Free</td>\n",
              "      <td>0</td>\n",
              "      <td>Mature 17+</td>\n",
              "      <td>Books &amp; Reference</td>\n",
              "      <td>January 19, 2015</td>\n",
              "      <td>Varies with device</td>\n",
              "      <td>Varies with device</td>\n",
              "    </tr>\n",
              "    <tr>\n",
              "      <th>9</th>\n",
              "      <td>iHoroscope - 2018 Daily Horoscope &amp; Astrology</td>\n",
              "      <td>LIFESTYLE</td>\n",
              "      <td>4.5</td>\n",
              "      <td>398307</td>\n",
              "      <td>19M</td>\n",
              "      <td>10,000,000+</td>\n",
              "      <td>Free</td>\n",
              "      <td>0</td>\n",
              "      <td>Everyone</td>\n",
              "      <td>Lifestyle</td>\n",
              "      <td>July 25, 2018</td>\n",
              "      <td>Varies with device</td>\n",
              "      <td>Varies with device</td>\n",
              "    </tr>\n",
              "  </tbody>\n",
              "</table>\n",
              "</div>\n",
              "      <button class=\"colab-df-convert\" onclick=\"convertToInteractive('df-f3caf68d-5266-4efc-8a7d-a539d0341d27')\"\n",
              "              title=\"Convert this dataframe to an interactive table.\"\n",
              "              style=\"display:none;\">\n",
              "        \n",
              "  <svg xmlns=\"http://www.w3.org/2000/svg\" height=\"24px\"viewBox=\"0 0 24 24\"\n",
              "       width=\"24px\">\n",
              "    <path d=\"M0 0h24v24H0V0z\" fill=\"none\"/>\n",
              "    <path d=\"M18.56 5.44l.94 2.06.94-2.06 2.06-.94-2.06-.94-.94-2.06-.94 2.06-2.06.94zm-11 1L8.5 8.5l.94-2.06 2.06-.94-2.06-.94L8.5 2.5l-.94 2.06-2.06.94zm10 10l.94 2.06.94-2.06 2.06-.94-2.06-.94-.94-2.06-.94 2.06-2.06.94z\"/><path d=\"M17.41 7.96l-1.37-1.37c-.4-.4-.92-.59-1.43-.59-.52 0-1.04.2-1.43.59L10.3 9.45l-7.72 7.72c-.78.78-.78 2.05 0 2.83L4 21.41c.39.39.9.59 1.41.59.51 0 1.02-.2 1.41-.59l7.78-7.78 2.81-2.81c.8-.78.8-2.07 0-2.86zM5.41 20L4 18.59l7.72-7.72 1.47 1.35L5.41 20z\"/>\n",
              "  </svg>\n",
              "      </button>\n",
              "      \n",
              "  <style>\n",
              "    .colab-df-container {\n",
              "      display:flex;\n",
              "      flex-wrap:wrap;\n",
              "      gap: 12px;\n",
              "    }\n",
              "\n",
              "    .colab-df-convert {\n",
              "      background-color: #E8F0FE;\n",
              "      border: none;\n",
              "      border-radius: 50%;\n",
              "      cursor: pointer;\n",
              "      display: none;\n",
              "      fill: #1967D2;\n",
              "      height: 32px;\n",
              "      padding: 0 0 0 0;\n",
              "      width: 32px;\n",
              "    }\n",
              "\n",
              "    .colab-df-convert:hover {\n",
              "      background-color: #E2EBFA;\n",
              "      box-shadow: 0px 1px 2px rgba(60, 64, 67, 0.3), 0px 1px 3px 1px rgba(60, 64, 67, 0.15);\n",
              "      fill: #174EA6;\n",
              "    }\n",
              "\n",
              "    [theme=dark] .colab-df-convert {\n",
              "      background-color: #3B4455;\n",
              "      fill: #D2E3FC;\n",
              "    }\n",
              "\n",
              "    [theme=dark] .colab-df-convert:hover {\n",
              "      background-color: #434B5C;\n",
              "      box-shadow: 0px 1px 3px 1px rgba(0, 0, 0, 0.15);\n",
              "      filter: drop-shadow(0px 1px 2px rgba(0, 0, 0, 0.3));\n",
              "      fill: #FFFFFF;\n",
              "    }\n",
              "  </style>\n",
              "\n",
              "      <script>\n",
              "        const buttonEl =\n",
              "          document.querySelector('#df-f3caf68d-5266-4efc-8a7d-a539d0341d27 button.colab-df-convert');\n",
              "        buttonEl.style.display =\n",
              "          google.colab.kernel.accessAllowed ? 'block' : 'none';\n",
              "\n",
              "        async function convertToInteractive(key) {\n",
              "          const element = document.querySelector('#df-f3caf68d-5266-4efc-8a7d-a539d0341d27');\n",
              "          const dataTable =\n",
              "            await google.colab.kernel.invokeFunction('convertToInteractive',\n",
              "                                                     [key], {});\n",
              "          if (!dataTable) return;\n",
              "\n",
              "          const docLinkHtml = 'Like what you see? Visit the ' +\n",
              "            '<a target=\"_blank\" href=https://colab.research.google.com/notebooks/data_table.ipynb>data table notebook</a>'\n",
              "            + ' to learn more about interactive tables.';\n",
              "          element.innerHTML = '';\n",
              "          dataTable['output_type'] = 'display_data';\n",
              "          await google.colab.output.renderOutput(dataTable, element);\n",
              "          const docLink = document.createElement('div');\n",
              "          docLink.innerHTML = docLinkHtml;\n",
              "          element.appendChild(docLink);\n",
              "        }\n",
              "      </script>\n",
              "    </div>\n",
              "  </div>\n",
              "  "
            ]
          },
          "metadata": {},
          "execution_count": 79
        }
      ]
    },
    {
      "cell_type": "code",
      "source": [
        "#rows containg null values\n",
        "playSdata[playSdata['Rating'].isnull()]"
      ],
      "metadata": {
        "colab": {
          "base_uri": "https://localhost:8080/",
          "height": 554
        },
        "id": "6RJ2pxzpOlbZ",
        "outputId": "935baf21-d255-489b-96d8-d820673b0c90"
      },
      "execution_count": 80,
      "outputs": [
        {
          "output_type": "execute_result",
          "data": {
            "text/plain": [
              "                                       App             Category  Rating  \\\n",
              "23                  Mcqueen Coloring pages       ART_AND_DESIGN     NaN   \n",
              "113              Wrinkles and rejuvenation               BEAUTY     NaN   \n",
              "123                 Manicure - nail design               BEAUTY     NaN   \n",
              "126           Skin Care and Natural Beauty               BEAUTY     NaN   \n",
              "129    Secrets of beauty, youth and health               BEAUTY     NaN   \n",
              "...                                    ...                  ...     ...   \n",
              "10824                            Cardio-FR              MEDICAL     NaN   \n",
              "10825                   Naruto & Boruto FR               SOCIAL     NaN   \n",
              "10831             payermonstationnement.fr  MAPS_AND_NAVIGATION     NaN   \n",
              "10835                             FR Forms             BUSINESS     NaN   \n",
              "10838               Parkinson Exercices FR              MEDICAL     NaN   \n",
              "\n",
              "      Reviews  Size  Installs  Type Price Content Rating  \\\n",
              "23         61  7.0M  100,000+  Free     0       Everyone   \n",
              "113       182  5.7M  100,000+  Free     0   Everyone 10+   \n",
              "123       119  3.7M   50,000+  Free     0       Everyone   \n",
              "126       654  7.4M  100,000+  Free     0           Teen   \n",
              "129        77  2.9M   10,000+  Free     0     Mature 17+   \n",
              "...       ...   ...       ...   ...   ...            ...   \n",
              "10824      67   82M   10,000+  Free     0       Everyone   \n",
              "10825       7  7.7M      100+  Free     0           Teen   \n",
              "10831      38  9.8M    5,000+  Free     0       Everyone   \n",
              "10835       0  9.6M       10+  Free     0       Everyone   \n",
              "10838       3  9.5M    1,000+  Free     0       Everyone   \n",
              "\n",
              "                                Genres        Last Updated Current Ver  \\\n",
              "23     Art & Design;Action & Adventure       March 7, 2018       1.0.0   \n",
              "113                             Beauty  September 20, 2017         8.0   \n",
              "123                             Beauty       July 23, 2018         1.3   \n",
              "126                             Beauty       July 17, 2018        1.15   \n",
              "129                             Beauty      August 8, 2017         2.0   \n",
              "...                                ...                 ...         ...   \n",
              "10824                          Medical       July 31, 2018       2.2.2   \n",
              "10825                           Social    February 2, 2018         1.0   \n",
              "10831                Maps & Navigation       June 13, 2018   2.0.148.0   \n",
              "10835                         Business  September 29, 2016       1.1.5   \n",
              "10838                          Medical    January 20, 2017         1.0   \n",
              "\n",
              "      Android Ver  \n",
              "23     4.1 and up  \n",
              "113    3.0 and up  \n",
              "123    4.1 and up  \n",
              "126    4.1 and up  \n",
              "129    2.3 and up  \n",
              "...           ...  \n",
              "10824  4.4 and up  \n",
              "10825  4.0 and up  \n",
              "10831  4.0 and up  \n",
              "10835  4.0 and up  \n",
              "10838  2.2 and up  \n",
              "\n",
              "[1474 rows x 13 columns]"
            ],
            "text/html": [
              "\n",
              "  <div id=\"df-a356b058-9547-4b32-b9a0-173978e0fd11\">\n",
              "    <div class=\"colab-df-container\">\n",
              "      <div>\n",
              "<style scoped>\n",
              "    .dataframe tbody tr th:only-of-type {\n",
              "        vertical-align: middle;\n",
              "    }\n",
              "\n",
              "    .dataframe tbody tr th {\n",
              "        vertical-align: top;\n",
              "    }\n",
              "\n",
              "    .dataframe thead th {\n",
              "        text-align: right;\n",
              "    }\n",
              "</style>\n",
              "<table border=\"1\" class=\"dataframe\">\n",
              "  <thead>\n",
              "    <tr style=\"text-align: right;\">\n",
              "      <th></th>\n",
              "      <th>App</th>\n",
              "      <th>Category</th>\n",
              "      <th>Rating</th>\n",
              "      <th>Reviews</th>\n",
              "      <th>Size</th>\n",
              "      <th>Installs</th>\n",
              "      <th>Type</th>\n",
              "      <th>Price</th>\n",
              "      <th>Content Rating</th>\n",
              "      <th>Genres</th>\n",
              "      <th>Last Updated</th>\n",
              "      <th>Current Ver</th>\n",
              "      <th>Android Ver</th>\n",
              "    </tr>\n",
              "  </thead>\n",
              "  <tbody>\n",
              "    <tr>\n",
              "      <th>23</th>\n",
              "      <td>Mcqueen Coloring pages</td>\n",
              "      <td>ART_AND_DESIGN</td>\n",
              "      <td>NaN</td>\n",
              "      <td>61</td>\n",
              "      <td>7.0M</td>\n",
              "      <td>100,000+</td>\n",
              "      <td>Free</td>\n",
              "      <td>0</td>\n",
              "      <td>Everyone</td>\n",
              "      <td>Art &amp; Design;Action &amp; Adventure</td>\n",
              "      <td>March 7, 2018</td>\n",
              "      <td>1.0.0</td>\n",
              "      <td>4.1 and up</td>\n",
              "    </tr>\n",
              "    <tr>\n",
              "      <th>113</th>\n",
              "      <td>Wrinkles and rejuvenation</td>\n",
              "      <td>BEAUTY</td>\n",
              "      <td>NaN</td>\n",
              "      <td>182</td>\n",
              "      <td>5.7M</td>\n",
              "      <td>100,000+</td>\n",
              "      <td>Free</td>\n",
              "      <td>0</td>\n",
              "      <td>Everyone 10+</td>\n",
              "      <td>Beauty</td>\n",
              "      <td>September 20, 2017</td>\n",
              "      <td>8.0</td>\n",
              "      <td>3.0 and up</td>\n",
              "    </tr>\n",
              "    <tr>\n",
              "      <th>123</th>\n",
              "      <td>Manicure - nail design</td>\n",
              "      <td>BEAUTY</td>\n",
              "      <td>NaN</td>\n",
              "      <td>119</td>\n",
              "      <td>3.7M</td>\n",
              "      <td>50,000+</td>\n",
              "      <td>Free</td>\n",
              "      <td>0</td>\n",
              "      <td>Everyone</td>\n",
              "      <td>Beauty</td>\n",
              "      <td>July 23, 2018</td>\n",
              "      <td>1.3</td>\n",
              "      <td>4.1 and up</td>\n",
              "    </tr>\n",
              "    <tr>\n",
              "      <th>126</th>\n",
              "      <td>Skin Care and Natural Beauty</td>\n",
              "      <td>BEAUTY</td>\n",
              "      <td>NaN</td>\n",
              "      <td>654</td>\n",
              "      <td>7.4M</td>\n",
              "      <td>100,000+</td>\n",
              "      <td>Free</td>\n",
              "      <td>0</td>\n",
              "      <td>Teen</td>\n",
              "      <td>Beauty</td>\n",
              "      <td>July 17, 2018</td>\n",
              "      <td>1.15</td>\n",
              "      <td>4.1 and up</td>\n",
              "    </tr>\n",
              "    <tr>\n",
              "      <th>129</th>\n",
              "      <td>Secrets of beauty, youth and health</td>\n",
              "      <td>BEAUTY</td>\n",
              "      <td>NaN</td>\n",
              "      <td>77</td>\n",
              "      <td>2.9M</td>\n",
              "      <td>10,000+</td>\n",
              "      <td>Free</td>\n",
              "      <td>0</td>\n",
              "      <td>Mature 17+</td>\n",
              "      <td>Beauty</td>\n",
              "      <td>August 8, 2017</td>\n",
              "      <td>2.0</td>\n",
              "      <td>2.3 and up</td>\n",
              "    </tr>\n",
              "    <tr>\n",
              "      <th>...</th>\n",
              "      <td>...</td>\n",
              "      <td>...</td>\n",
              "      <td>...</td>\n",
              "      <td>...</td>\n",
              "      <td>...</td>\n",
              "      <td>...</td>\n",
              "      <td>...</td>\n",
              "      <td>...</td>\n",
              "      <td>...</td>\n",
              "      <td>...</td>\n",
              "      <td>...</td>\n",
              "      <td>...</td>\n",
              "      <td>...</td>\n",
              "    </tr>\n",
              "    <tr>\n",
              "      <th>10824</th>\n",
              "      <td>Cardio-FR</td>\n",
              "      <td>MEDICAL</td>\n",
              "      <td>NaN</td>\n",
              "      <td>67</td>\n",
              "      <td>82M</td>\n",
              "      <td>10,000+</td>\n",
              "      <td>Free</td>\n",
              "      <td>0</td>\n",
              "      <td>Everyone</td>\n",
              "      <td>Medical</td>\n",
              "      <td>July 31, 2018</td>\n",
              "      <td>2.2.2</td>\n",
              "      <td>4.4 and up</td>\n",
              "    </tr>\n",
              "    <tr>\n",
              "      <th>10825</th>\n",
              "      <td>Naruto &amp; Boruto FR</td>\n",
              "      <td>SOCIAL</td>\n",
              "      <td>NaN</td>\n",
              "      <td>7</td>\n",
              "      <td>7.7M</td>\n",
              "      <td>100+</td>\n",
              "      <td>Free</td>\n",
              "      <td>0</td>\n",
              "      <td>Teen</td>\n",
              "      <td>Social</td>\n",
              "      <td>February 2, 2018</td>\n",
              "      <td>1.0</td>\n",
              "      <td>4.0 and up</td>\n",
              "    </tr>\n",
              "    <tr>\n",
              "      <th>10831</th>\n",
              "      <td>payermonstationnement.fr</td>\n",
              "      <td>MAPS_AND_NAVIGATION</td>\n",
              "      <td>NaN</td>\n",
              "      <td>38</td>\n",
              "      <td>9.8M</td>\n",
              "      <td>5,000+</td>\n",
              "      <td>Free</td>\n",
              "      <td>0</td>\n",
              "      <td>Everyone</td>\n",
              "      <td>Maps &amp; Navigation</td>\n",
              "      <td>June 13, 2018</td>\n",
              "      <td>2.0.148.0</td>\n",
              "      <td>4.0 and up</td>\n",
              "    </tr>\n",
              "    <tr>\n",
              "      <th>10835</th>\n",
              "      <td>FR Forms</td>\n",
              "      <td>BUSINESS</td>\n",
              "      <td>NaN</td>\n",
              "      <td>0</td>\n",
              "      <td>9.6M</td>\n",
              "      <td>10+</td>\n",
              "      <td>Free</td>\n",
              "      <td>0</td>\n",
              "      <td>Everyone</td>\n",
              "      <td>Business</td>\n",
              "      <td>September 29, 2016</td>\n",
              "      <td>1.1.5</td>\n",
              "      <td>4.0 and up</td>\n",
              "    </tr>\n",
              "    <tr>\n",
              "      <th>10838</th>\n",
              "      <td>Parkinson Exercices FR</td>\n",
              "      <td>MEDICAL</td>\n",
              "      <td>NaN</td>\n",
              "      <td>3</td>\n",
              "      <td>9.5M</td>\n",
              "      <td>1,000+</td>\n",
              "      <td>Free</td>\n",
              "      <td>0</td>\n",
              "      <td>Everyone</td>\n",
              "      <td>Medical</td>\n",
              "      <td>January 20, 2017</td>\n",
              "      <td>1.0</td>\n",
              "      <td>2.2 and up</td>\n",
              "    </tr>\n",
              "  </tbody>\n",
              "</table>\n",
              "<p>1474 rows × 13 columns</p>\n",
              "</div>\n",
              "      <button class=\"colab-df-convert\" onclick=\"convertToInteractive('df-a356b058-9547-4b32-b9a0-173978e0fd11')\"\n",
              "              title=\"Convert this dataframe to an interactive table.\"\n",
              "              style=\"display:none;\">\n",
              "        \n",
              "  <svg xmlns=\"http://www.w3.org/2000/svg\" height=\"24px\"viewBox=\"0 0 24 24\"\n",
              "       width=\"24px\">\n",
              "    <path d=\"M0 0h24v24H0V0z\" fill=\"none\"/>\n",
              "    <path d=\"M18.56 5.44l.94 2.06.94-2.06 2.06-.94-2.06-.94-.94-2.06-.94 2.06-2.06.94zm-11 1L8.5 8.5l.94-2.06 2.06-.94-2.06-.94L8.5 2.5l-.94 2.06-2.06.94zm10 10l.94 2.06.94-2.06 2.06-.94-2.06-.94-.94-2.06-.94 2.06-2.06.94z\"/><path d=\"M17.41 7.96l-1.37-1.37c-.4-.4-.92-.59-1.43-.59-.52 0-1.04.2-1.43.59L10.3 9.45l-7.72 7.72c-.78.78-.78 2.05 0 2.83L4 21.41c.39.39.9.59 1.41.59.51 0 1.02-.2 1.41-.59l7.78-7.78 2.81-2.81c.8-.78.8-2.07 0-2.86zM5.41 20L4 18.59l7.72-7.72 1.47 1.35L5.41 20z\"/>\n",
              "  </svg>\n",
              "      </button>\n",
              "      \n",
              "  <style>\n",
              "    .colab-df-container {\n",
              "      display:flex;\n",
              "      flex-wrap:wrap;\n",
              "      gap: 12px;\n",
              "    }\n",
              "\n",
              "    .colab-df-convert {\n",
              "      background-color: #E8F0FE;\n",
              "      border: none;\n",
              "      border-radius: 50%;\n",
              "      cursor: pointer;\n",
              "      display: none;\n",
              "      fill: #1967D2;\n",
              "      height: 32px;\n",
              "      padding: 0 0 0 0;\n",
              "      width: 32px;\n",
              "    }\n",
              "\n",
              "    .colab-df-convert:hover {\n",
              "      background-color: #E2EBFA;\n",
              "      box-shadow: 0px 1px 2px rgba(60, 64, 67, 0.3), 0px 1px 3px 1px rgba(60, 64, 67, 0.15);\n",
              "      fill: #174EA6;\n",
              "    }\n",
              "\n",
              "    [theme=dark] .colab-df-convert {\n",
              "      background-color: #3B4455;\n",
              "      fill: #D2E3FC;\n",
              "    }\n",
              "\n",
              "    [theme=dark] .colab-df-convert:hover {\n",
              "      background-color: #434B5C;\n",
              "      box-shadow: 0px 1px 3px 1px rgba(0, 0, 0, 0.15);\n",
              "      filter: drop-shadow(0px 1px 2px rgba(0, 0, 0, 0.3));\n",
              "      fill: #FFFFFF;\n",
              "    }\n",
              "  </style>\n",
              "\n",
              "      <script>\n",
              "        const buttonEl =\n",
              "          document.querySelector('#df-a356b058-9547-4b32-b9a0-173978e0fd11 button.colab-df-convert');\n",
              "        buttonEl.style.display =\n",
              "          google.colab.kernel.accessAllowed ? 'block' : 'none';\n",
              "\n",
              "        async function convertToInteractive(key) {\n",
              "          const element = document.querySelector('#df-a356b058-9547-4b32-b9a0-173978e0fd11');\n",
              "          const dataTable =\n",
              "            await google.colab.kernel.invokeFunction('convertToInteractive',\n",
              "                                                     [key], {});\n",
              "          if (!dataTable) return;\n",
              "\n",
              "          const docLinkHtml = 'Like what you see? Visit the ' +\n",
              "            '<a target=\"_blank\" href=https://colab.research.google.com/notebooks/data_table.ipynb>data table notebook</a>'\n",
              "            + ' to learn more about interactive tables.';\n",
              "          element.innerHTML = '';\n",
              "          dataTable['output_type'] = 'display_data';\n",
              "          await google.colab.output.renderOutput(dataTable, element);\n",
              "          const docLink = document.createElement('div');\n",
              "          docLink.innerHTML = docLinkHtml;\n",
              "          element.appendChild(docLink);\n",
              "        }\n",
              "      </script>\n",
              "    </div>\n",
              "  </div>\n",
              "  "
            ]
          },
          "metadata": {},
          "execution_count": 80
        }
      ]
    },
    {
      "cell_type": "markdown",
      "source": [
        "clean data"
      ],
      "metadata": {
        "id": "O1be840rP-d2"
      }
    },
    {
      "cell_type": "markdown",
      "source": [
        "#*We can see in below graph now ratings are under 5*"
      ],
      "metadata": {
        "id": "bgNUb2oclSXo"
      }
    },
    {
      "cell_type": "code",
      "source": [
        "playSdata[playSdata['Rating'] > 5]"
      ],
      "metadata": {
        "id": "CAXPThErkaWg",
        "colab": {
          "base_uri": "https://localhost:8080/",
          "height": 81
        },
        "outputId": "b7d9afdc-5701-44d7-97ef-5fdef11405ce"
      },
      "execution_count": 84,
      "outputs": [
        {
          "output_type": "execute_result",
          "data": {
            "text/plain": [
              "                                           App Category  Rating Reviews  \\\n",
              "10472  Life Made WI-Fi Touchscreen Photo Frame      1.9    19.0    3.0M   \n",
              "\n",
              "         Size Installs Type     Price Content_Rating             Genres  \\\n",
              "10472  1,000+     Free    0  Everyone            NaN  February 11, 2018   \n",
              "\n",
              "      Last_Updated Current_Ver Android_Ver  \n",
              "10472       1.0.19  4.0 and up         NaN  "
            ],
            "text/html": [
              "\n",
              "  <div id=\"df-d1808b83-fddf-4ae8-abbf-c995f2b9e7e3\">\n",
              "    <div class=\"colab-df-container\">\n",
              "      <div>\n",
              "<style scoped>\n",
              "    .dataframe tbody tr th:only-of-type {\n",
              "        vertical-align: middle;\n",
              "    }\n",
              "\n",
              "    .dataframe tbody tr th {\n",
              "        vertical-align: top;\n",
              "    }\n",
              "\n",
              "    .dataframe thead th {\n",
              "        text-align: right;\n",
              "    }\n",
              "</style>\n",
              "<table border=\"1\" class=\"dataframe\">\n",
              "  <thead>\n",
              "    <tr style=\"text-align: right;\">\n",
              "      <th></th>\n",
              "      <th>App</th>\n",
              "      <th>Category</th>\n",
              "      <th>Rating</th>\n",
              "      <th>Reviews</th>\n",
              "      <th>Size</th>\n",
              "      <th>Installs</th>\n",
              "      <th>Type</th>\n",
              "      <th>Price</th>\n",
              "      <th>Content_Rating</th>\n",
              "      <th>Genres</th>\n",
              "      <th>Last_Updated</th>\n",
              "      <th>Current_Ver</th>\n",
              "      <th>Android_Ver</th>\n",
              "    </tr>\n",
              "  </thead>\n",
              "  <tbody>\n",
              "    <tr>\n",
              "      <th>10472</th>\n",
              "      <td>Life Made WI-Fi Touchscreen Photo Frame</td>\n",
              "      <td>1.9</td>\n",
              "      <td>19.0</td>\n",
              "      <td>3.0M</td>\n",
              "      <td>1,000+</td>\n",
              "      <td>Free</td>\n",
              "      <td>0</td>\n",
              "      <td>Everyone</td>\n",
              "      <td>NaN</td>\n",
              "      <td>February 11, 2018</td>\n",
              "      <td>1.0.19</td>\n",
              "      <td>4.0 and up</td>\n",
              "      <td>NaN</td>\n",
              "    </tr>\n",
              "  </tbody>\n",
              "</table>\n",
              "</div>\n",
              "      <button class=\"colab-df-convert\" onclick=\"convertToInteractive('df-d1808b83-fddf-4ae8-abbf-c995f2b9e7e3')\"\n",
              "              title=\"Convert this dataframe to an interactive table.\"\n",
              "              style=\"display:none;\">\n",
              "        \n",
              "  <svg xmlns=\"http://www.w3.org/2000/svg\" height=\"24px\"viewBox=\"0 0 24 24\"\n",
              "       width=\"24px\">\n",
              "    <path d=\"M0 0h24v24H0V0z\" fill=\"none\"/>\n",
              "    <path d=\"M18.56 5.44l.94 2.06.94-2.06 2.06-.94-2.06-.94-.94-2.06-.94 2.06-2.06.94zm-11 1L8.5 8.5l.94-2.06 2.06-.94-2.06-.94L8.5 2.5l-.94 2.06-2.06.94zm10 10l.94 2.06.94-2.06 2.06-.94-2.06-.94-.94-2.06-.94 2.06-2.06.94z\"/><path d=\"M17.41 7.96l-1.37-1.37c-.4-.4-.92-.59-1.43-.59-.52 0-1.04.2-1.43.59L10.3 9.45l-7.72 7.72c-.78.78-.78 2.05 0 2.83L4 21.41c.39.39.9.59 1.41.59.51 0 1.02-.2 1.41-.59l7.78-7.78 2.81-2.81c.8-.78.8-2.07 0-2.86zM5.41 20L4 18.59l7.72-7.72 1.47 1.35L5.41 20z\"/>\n",
              "  </svg>\n",
              "      </button>\n",
              "      \n",
              "  <style>\n",
              "    .colab-df-container {\n",
              "      display:flex;\n",
              "      flex-wrap:wrap;\n",
              "      gap: 12px;\n",
              "    }\n",
              "\n",
              "    .colab-df-convert {\n",
              "      background-color: #E8F0FE;\n",
              "      border: none;\n",
              "      border-radius: 50%;\n",
              "      cursor: pointer;\n",
              "      display: none;\n",
              "      fill: #1967D2;\n",
              "      height: 32px;\n",
              "      padding: 0 0 0 0;\n",
              "      width: 32px;\n",
              "    }\n",
              "\n",
              "    .colab-df-convert:hover {\n",
              "      background-color: #E2EBFA;\n",
              "      box-shadow: 0px 1px 2px rgba(60, 64, 67, 0.3), 0px 1px 3px 1px rgba(60, 64, 67, 0.15);\n",
              "      fill: #174EA6;\n",
              "    }\n",
              "\n",
              "    [theme=dark] .colab-df-convert {\n",
              "      background-color: #3B4455;\n",
              "      fill: #D2E3FC;\n",
              "    }\n",
              "\n",
              "    [theme=dark] .colab-df-convert:hover {\n",
              "      background-color: #434B5C;\n",
              "      box-shadow: 0px 1px 3px 1px rgba(0, 0, 0, 0.15);\n",
              "      filter: drop-shadow(0px 1px 2px rgba(0, 0, 0, 0.3));\n",
              "      fill: #FFFFFF;\n",
              "    }\n",
              "  </style>\n",
              "\n",
              "      <script>\n",
              "        const buttonEl =\n",
              "          document.querySelector('#df-d1808b83-fddf-4ae8-abbf-c995f2b9e7e3 button.colab-df-convert');\n",
              "        buttonEl.style.display =\n",
              "          google.colab.kernel.accessAllowed ? 'block' : 'none';\n",
              "\n",
              "        async function convertToInteractive(key) {\n",
              "          const element = document.querySelector('#df-d1808b83-fddf-4ae8-abbf-c995f2b9e7e3');\n",
              "          const dataTable =\n",
              "            await google.colab.kernel.invokeFunction('convertToInteractive',\n",
              "                                                     [key], {});\n",
              "          if (!dataTable) return;\n",
              "\n",
              "          const docLinkHtml = 'Like what you see? Visit the ' +\n",
              "            '<a target=\"_blank\" href=https://colab.research.google.com/notebooks/data_table.ipynb>data table notebook</a>'\n",
              "            + ' to learn more about interactive tables.';\n",
              "          element.innerHTML = '';\n",
              "          dataTable['output_type'] = 'display_data';\n",
              "          await google.colab.output.renderOutput(dataTable, element);\n",
              "          const docLink = document.createElement('div');\n",
              "          docLink.innerHTML = docLinkHtml;\n",
              "          element.appendChild(docLink);\n",
              "        }\n",
              "      </script>\n",
              "    </div>\n",
              "  </div>\n",
              "  "
            ]
          },
          "metadata": {},
          "execution_count": 84
        }
      ]
    },
    {
      "cell_type": "code",
      "source": [
        "playSdata.drop(10472,inplace=True)"
      ],
      "metadata": {
        "id": "qHlJZGqhklTJ"
      },
      "execution_count": 85,
      "outputs": []
    },
    {
      "cell_type": "code",
      "source": [
        "playSdata[10470:10475]"
      ],
      "metadata": {
        "colab": {
          "base_uri": "https://localhost:8080/",
          "height": 206
        },
        "id": "nzBjss0gkzwN",
        "outputId": "e18d511f-4c7d-4ee1-f1d2-420ebe48e108"
      },
      "execution_count": 86,
      "outputs": [
        {
          "output_type": "execute_result",
          "data": {
            "text/plain": [
              "                           App         Category  Rating Reviews  Size  \\\n",
              "10470               Jazz Wi-Fi    COMMUNICATION     3.4      49  4.0M   \n",
              "10471         Xposed Wi-Fi-Pwd  PERSONALIZATION     3.5    1042  404k   \n",
              "10473  osmino Wi-Fi: free WiFi            TOOLS     4.2  134203  4.1M   \n",
              "10474             Sat-Fi Voice    COMMUNICATION     3.4      37   14M   \n",
              "10475         Wi-Fi Visualizer            TOOLS     3.9     132  2.6M   \n",
              "\n",
              "          Installs  Type Price Content_Rating           Genres  \\\n",
              "10470      10,000+  Free     0       Everyone    Communication   \n",
              "10471     100,000+  Free     0       Everyone  Personalization   \n",
              "10473  10,000,000+  Free     0       Everyone            Tools   \n",
              "10474       1,000+  Free     0       Everyone    Communication   \n",
              "10475      50,000+  Free     0       Everyone            Tools   \n",
              "\n",
              "            Last_Updated Current_Ver   Android_Ver  \n",
              "10470  February 10, 2017         0.1    2.3 and up  \n",
              "10471     August 5, 2014       3.0.0  4.0.3 and up  \n",
              "10473     August 7, 2018     6.06.14    4.4 and up  \n",
              "10474  November 21, 2014     2.2.1.5    2.2 and up  \n",
              "10475       May 17, 2017       0.0.9    2.3 and up  "
            ],
            "text/html": [
              "\n",
              "  <div id=\"df-321d973a-21df-4690-b91f-4702f4b81bf1\">\n",
              "    <div class=\"colab-df-container\">\n",
              "      <div>\n",
              "<style scoped>\n",
              "    .dataframe tbody tr th:only-of-type {\n",
              "        vertical-align: middle;\n",
              "    }\n",
              "\n",
              "    .dataframe tbody tr th {\n",
              "        vertical-align: top;\n",
              "    }\n",
              "\n",
              "    .dataframe thead th {\n",
              "        text-align: right;\n",
              "    }\n",
              "</style>\n",
              "<table border=\"1\" class=\"dataframe\">\n",
              "  <thead>\n",
              "    <tr style=\"text-align: right;\">\n",
              "      <th></th>\n",
              "      <th>App</th>\n",
              "      <th>Category</th>\n",
              "      <th>Rating</th>\n",
              "      <th>Reviews</th>\n",
              "      <th>Size</th>\n",
              "      <th>Installs</th>\n",
              "      <th>Type</th>\n",
              "      <th>Price</th>\n",
              "      <th>Content_Rating</th>\n",
              "      <th>Genres</th>\n",
              "      <th>Last_Updated</th>\n",
              "      <th>Current_Ver</th>\n",
              "      <th>Android_Ver</th>\n",
              "    </tr>\n",
              "  </thead>\n",
              "  <tbody>\n",
              "    <tr>\n",
              "      <th>10470</th>\n",
              "      <td>Jazz Wi-Fi</td>\n",
              "      <td>COMMUNICATION</td>\n",
              "      <td>3.4</td>\n",
              "      <td>49</td>\n",
              "      <td>4.0M</td>\n",
              "      <td>10,000+</td>\n",
              "      <td>Free</td>\n",
              "      <td>0</td>\n",
              "      <td>Everyone</td>\n",
              "      <td>Communication</td>\n",
              "      <td>February 10, 2017</td>\n",
              "      <td>0.1</td>\n",
              "      <td>2.3 and up</td>\n",
              "    </tr>\n",
              "    <tr>\n",
              "      <th>10471</th>\n",
              "      <td>Xposed Wi-Fi-Pwd</td>\n",
              "      <td>PERSONALIZATION</td>\n",
              "      <td>3.5</td>\n",
              "      <td>1042</td>\n",
              "      <td>404k</td>\n",
              "      <td>100,000+</td>\n",
              "      <td>Free</td>\n",
              "      <td>0</td>\n",
              "      <td>Everyone</td>\n",
              "      <td>Personalization</td>\n",
              "      <td>August 5, 2014</td>\n",
              "      <td>3.0.0</td>\n",
              "      <td>4.0.3 and up</td>\n",
              "    </tr>\n",
              "    <tr>\n",
              "      <th>10473</th>\n",
              "      <td>osmino Wi-Fi: free WiFi</td>\n",
              "      <td>TOOLS</td>\n",
              "      <td>4.2</td>\n",
              "      <td>134203</td>\n",
              "      <td>4.1M</td>\n",
              "      <td>10,000,000+</td>\n",
              "      <td>Free</td>\n",
              "      <td>0</td>\n",
              "      <td>Everyone</td>\n",
              "      <td>Tools</td>\n",
              "      <td>August 7, 2018</td>\n",
              "      <td>6.06.14</td>\n",
              "      <td>4.4 and up</td>\n",
              "    </tr>\n",
              "    <tr>\n",
              "      <th>10474</th>\n",
              "      <td>Sat-Fi Voice</td>\n",
              "      <td>COMMUNICATION</td>\n",
              "      <td>3.4</td>\n",
              "      <td>37</td>\n",
              "      <td>14M</td>\n",
              "      <td>1,000+</td>\n",
              "      <td>Free</td>\n",
              "      <td>0</td>\n",
              "      <td>Everyone</td>\n",
              "      <td>Communication</td>\n",
              "      <td>November 21, 2014</td>\n",
              "      <td>2.2.1.5</td>\n",
              "      <td>2.2 and up</td>\n",
              "    </tr>\n",
              "    <tr>\n",
              "      <th>10475</th>\n",
              "      <td>Wi-Fi Visualizer</td>\n",
              "      <td>TOOLS</td>\n",
              "      <td>3.9</td>\n",
              "      <td>132</td>\n",
              "      <td>2.6M</td>\n",
              "      <td>50,000+</td>\n",
              "      <td>Free</td>\n",
              "      <td>0</td>\n",
              "      <td>Everyone</td>\n",
              "      <td>Tools</td>\n",
              "      <td>May 17, 2017</td>\n",
              "      <td>0.0.9</td>\n",
              "      <td>2.3 and up</td>\n",
              "    </tr>\n",
              "  </tbody>\n",
              "</table>\n",
              "</div>\n",
              "      <button class=\"colab-df-convert\" onclick=\"convertToInteractive('df-321d973a-21df-4690-b91f-4702f4b81bf1')\"\n",
              "              title=\"Convert this dataframe to an interactive table.\"\n",
              "              style=\"display:none;\">\n",
              "        \n",
              "  <svg xmlns=\"http://www.w3.org/2000/svg\" height=\"24px\"viewBox=\"0 0 24 24\"\n",
              "       width=\"24px\">\n",
              "    <path d=\"M0 0h24v24H0V0z\" fill=\"none\"/>\n",
              "    <path d=\"M18.56 5.44l.94 2.06.94-2.06 2.06-.94-2.06-.94-.94-2.06-.94 2.06-2.06.94zm-11 1L8.5 8.5l.94-2.06 2.06-.94-2.06-.94L8.5 2.5l-.94 2.06-2.06.94zm10 10l.94 2.06.94-2.06 2.06-.94-2.06-.94-.94-2.06-.94 2.06-2.06.94z\"/><path d=\"M17.41 7.96l-1.37-1.37c-.4-.4-.92-.59-1.43-.59-.52 0-1.04.2-1.43.59L10.3 9.45l-7.72 7.72c-.78.78-.78 2.05 0 2.83L4 21.41c.39.39.9.59 1.41.59.51 0 1.02-.2 1.41-.59l7.78-7.78 2.81-2.81c.8-.78.8-2.07 0-2.86zM5.41 20L4 18.59l7.72-7.72 1.47 1.35L5.41 20z\"/>\n",
              "  </svg>\n",
              "      </button>\n",
              "      \n",
              "  <style>\n",
              "    .colab-df-container {\n",
              "      display:flex;\n",
              "      flex-wrap:wrap;\n",
              "      gap: 12px;\n",
              "    }\n",
              "\n",
              "    .colab-df-convert {\n",
              "      background-color: #E8F0FE;\n",
              "      border: none;\n",
              "      border-radius: 50%;\n",
              "      cursor: pointer;\n",
              "      display: none;\n",
              "      fill: #1967D2;\n",
              "      height: 32px;\n",
              "      padding: 0 0 0 0;\n",
              "      width: 32px;\n",
              "    }\n",
              "\n",
              "    .colab-df-convert:hover {\n",
              "      background-color: #E2EBFA;\n",
              "      box-shadow: 0px 1px 2px rgba(60, 64, 67, 0.3), 0px 1px 3px 1px rgba(60, 64, 67, 0.15);\n",
              "      fill: #174EA6;\n",
              "    }\n",
              "\n",
              "    [theme=dark] .colab-df-convert {\n",
              "      background-color: #3B4455;\n",
              "      fill: #D2E3FC;\n",
              "    }\n",
              "\n",
              "    [theme=dark] .colab-df-convert:hover {\n",
              "      background-color: #434B5C;\n",
              "      box-shadow: 0px 1px 3px 1px rgba(0, 0, 0, 0.15);\n",
              "      filter: drop-shadow(0px 1px 2px rgba(0, 0, 0, 0.3));\n",
              "      fill: #FFFFFF;\n",
              "    }\n",
              "  </style>\n",
              "\n",
              "      <script>\n",
              "        const buttonEl =\n",
              "          document.querySelector('#df-321d973a-21df-4690-b91f-4702f4b81bf1 button.colab-df-convert');\n",
              "        buttonEl.style.display =\n",
              "          google.colab.kernel.accessAllowed ? 'block' : 'none';\n",
              "\n",
              "        async function convertToInteractive(key) {\n",
              "          const element = document.querySelector('#df-321d973a-21df-4690-b91f-4702f4b81bf1');\n",
              "          const dataTable =\n",
              "            await google.colab.kernel.invokeFunction('convertToInteractive',\n",
              "                                                     [key], {});\n",
              "          if (!dataTable) return;\n",
              "\n",
              "          const docLinkHtml = 'Like what you see? Visit the ' +\n",
              "            '<a target=\"_blank\" href=https://colab.research.google.com/notebooks/data_table.ipynb>data table notebook</a>'\n",
              "            + ' to learn more about interactive tables.';\n",
              "          element.innerHTML = '';\n",
              "          dataTable['output_type'] = 'display_data';\n",
              "          await google.colab.output.renderOutput(dataTable, element);\n",
              "          const docLink = document.createElement('div');\n",
              "          docLink.innerHTML = docLinkHtml;\n",
              "          element.appendChild(docLink);\n",
              "        }\n",
              "      </script>\n",
              "    </div>\n",
              "  </div>\n",
              "  "
            ]
          },
          "metadata": {},
          "execution_count": 86
        }
      ]
    },
    {
      "cell_type": "markdown",
      "source": [
        "#*We will remove the null in columns which are empty*"
      ],
      "metadata": {
        "id": "qQ7kWRNWk8-6"
      }
    },
    {
      "cell_type": "code",
      "source": [
        "print(type(playSdata['Rating']))"
      ],
      "metadata": {
        "colab": {
          "base_uri": "https://localhost:8080/"
        },
        "id": "ud7Aq_JwHJpQ",
        "outputId": "833c927b-cddd-41e2-b5d6-5a4a9fd90452"
      },
      "execution_count": 87,
      "outputs": [
        {
          "output_type": "stream",
          "name": "stdout",
          "text": [
            "<class 'pandas.core.series.Series'>\n"
          ]
        }
      ]
    },
    {
      "cell_type": "code",
      "source": [
        "threshold = len(playSdata) * 0.1\n",
        "threshold"
      ],
      "metadata": {
        "colab": {
          "base_uri": "https://localhost:8080/"
        },
        "id": "Wc4Vfv4JlLiT",
        "outputId": "12766fdd-1ea1-450d-f071-ad98b0403a42"
      },
      "execution_count": 88,
      "outputs": [
        {
          "output_type": "execute_result",
          "data": {
            "text/plain": [
              "1084.0"
            ]
          },
          "metadata": {},
          "execution_count": 88
        }
      ]
    },
    {
      "cell_type": "code",
      "source": [
        "playSdata.dropna(thresh=threshold,axis=1,inplace=True)"
      ],
      "metadata": {
        "id": "_5qfu-gFmRYn"
      },
      "execution_count": 89,
      "outputs": []
    },
    {
      "cell_type": "code",
      "source": [
        "print(playSdata.isnull().sum())"
      ],
      "metadata": {
        "colab": {
          "base_uri": "https://localhost:8080/"
        },
        "id": "nH7BZN2jmhYL",
        "outputId": "7d582aa1-9d50-4084-d751-59759993bbc3"
      },
      "execution_count": 90,
      "outputs": [
        {
          "output_type": "stream",
          "name": "stdout",
          "text": [
            "App                  0\n",
            "Category             0\n",
            "Rating            1474\n",
            "Reviews              0\n",
            "Size                 0\n",
            "Installs             0\n",
            "Type                 1\n",
            "Price                0\n",
            "Content_Rating       0\n",
            "Genres               0\n",
            "Last_Updated         0\n",
            "Current_Ver          8\n",
            "Android_Ver          2\n",
            "dtype: int64\n"
          ]
        }
      ]
    },
    {
      "cell_type": "code",
      "source": [
        "playSdata.describe()"
      ],
      "metadata": {
        "colab": {
          "base_uri": "https://localhost:8080/",
          "height": 300
        },
        "id": "zid97G_kkWFn",
        "outputId": "e95d7dc1-98f5-455f-a02e-e598e012c808"
      },
      "execution_count": 91,
      "outputs": [
        {
          "output_type": "execute_result",
          "data": {
            "text/plain": [
              "            Rating\n",
              "count  9366.000000\n",
              "mean      4.191757\n",
              "std       0.515219\n",
              "min       1.000000\n",
              "25%       4.000000\n",
              "50%       4.300000\n",
              "75%       4.500000\n",
              "max       5.000000"
            ],
            "text/html": [
              "\n",
              "  <div id=\"df-eaea9bbf-ec45-4512-84b6-9bd7fb153ce5\">\n",
              "    <div class=\"colab-df-container\">\n",
              "      <div>\n",
              "<style scoped>\n",
              "    .dataframe tbody tr th:only-of-type {\n",
              "        vertical-align: middle;\n",
              "    }\n",
              "\n",
              "    .dataframe tbody tr th {\n",
              "        vertical-align: top;\n",
              "    }\n",
              "\n",
              "    .dataframe thead th {\n",
              "        text-align: right;\n",
              "    }\n",
              "</style>\n",
              "<table border=\"1\" class=\"dataframe\">\n",
              "  <thead>\n",
              "    <tr style=\"text-align: right;\">\n",
              "      <th></th>\n",
              "      <th>Rating</th>\n",
              "    </tr>\n",
              "  </thead>\n",
              "  <tbody>\n",
              "    <tr>\n",
              "      <th>count</th>\n",
              "      <td>9366.000000</td>\n",
              "    </tr>\n",
              "    <tr>\n",
              "      <th>mean</th>\n",
              "      <td>4.191757</td>\n",
              "    </tr>\n",
              "    <tr>\n",
              "      <th>std</th>\n",
              "      <td>0.515219</td>\n",
              "    </tr>\n",
              "    <tr>\n",
              "      <th>min</th>\n",
              "      <td>1.000000</td>\n",
              "    </tr>\n",
              "    <tr>\n",
              "      <th>25%</th>\n",
              "      <td>4.000000</td>\n",
              "    </tr>\n",
              "    <tr>\n",
              "      <th>50%</th>\n",
              "      <td>4.300000</td>\n",
              "    </tr>\n",
              "    <tr>\n",
              "      <th>75%</th>\n",
              "      <td>4.500000</td>\n",
              "    </tr>\n",
              "    <tr>\n",
              "      <th>max</th>\n",
              "      <td>5.000000</td>\n",
              "    </tr>\n",
              "  </tbody>\n",
              "</table>\n",
              "</div>\n",
              "      <button class=\"colab-df-convert\" onclick=\"convertToInteractive('df-eaea9bbf-ec45-4512-84b6-9bd7fb153ce5')\"\n",
              "              title=\"Convert this dataframe to an interactive table.\"\n",
              "              style=\"display:none;\">\n",
              "        \n",
              "  <svg xmlns=\"http://www.w3.org/2000/svg\" height=\"24px\"viewBox=\"0 0 24 24\"\n",
              "       width=\"24px\">\n",
              "    <path d=\"M0 0h24v24H0V0z\" fill=\"none\"/>\n",
              "    <path d=\"M18.56 5.44l.94 2.06.94-2.06 2.06-.94-2.06-.94-.94-2.06-.94 2.06-2.06.94zm-11 1L8.5 8.5l.94-2.06 2.06-.94-2.06-.94L8.5 2.5l-.94 2.06-2.06.94zm10 10l.94 2.06.94-2.06 2.06-.94-2.06-.94-.94-2.06-.94 2.06-2.06.94z\"/><path d=\"M17.41 7.96l-1.37-1.37c-.4-.4-.92-.59-1.43-.59-.52 0-1.04.2-1.43.59L10.3 9.45l-7.72 7.72c-.78.78-.78 2.05 0 2.83L4 21.41c.39.39.9.59 1.41.59.51 0 1.02-.2 1.41-.59l7.78-7.78 2.81-2.81c.8-.78.8-2.07 0-2.86zM5.41 20L4 18.59l7.72-7.72 1.47 1.35L5.41 20z\"/>\n",
              "  </svg>\n",
              "      </button>\n",
              "      \n",
              "  <style>\n",
              "    .colab-df-container {\n",
              "      display:flex;\n",
              "      flex-wrap:wrap;\n",
              "      gap: 12px;\n",
              "    }\n",
              "\n",
              "    .colab-df-convert {\n",
              "      background-color: #E8F0FE;\n",
              "      border: none;\n",
              "      border-radius: 50%;\n",
              "      cursor: pointer;\n",
              "      display: none;\n",
              "      fill: #1967D2;\n",
              "      height: 32px;\n",
              "      padding: 0 0 0 0;\n",
              "      width: 32px;\n",
              "    }\n",
              "\n",
              "    .colab-df-convert:hover {\n",
              "      background-color: #E2EBFA;\n",
              "      box-shadow: 0px 1px 2px rgba(60, 64, 67, 0.3), 0px 1px 3px 1px rgba(60, 64, 67, 0.15);\n",
              "      fill: #174EA6;\n",
              "    }\n",
              "\n",
              "    [theme=dark] .colab-df-convert {\n",
              "      background-color: #3B4455;\n",
              "      fill: #D2E3FC;\n",
              "    }\n",
              "\n",
              "    [theme=dark] .colab-df-convert:hover {\n",
              "      background-color: #434B5C;\n",
              "      box-shadow: 0px 1px 3px 1px rgba(0, 0, 0, 0.15);\n",
              "      filter: drop-shadow(0px 1px 2px rgba(0, 0, 0, 0.3));\n",
              "      fill: #FFFFFF;\n",
              "    }\n",
              "  </style>\n",
              "\n",
              "      <script>\n",
              "        const buttonEl =\n",
              "          document.querySelector('#df-eaea9bbf-ec45-4512-84b6-9bd7fb153ce5 button.colab-df-convert');\n",
              "        buttonEl.style.display =\n",
              "          google.colab.kernel.accessAllowed ? 'block' : 'none';\n",
              "\n",
              "        async function convertToInteractive(key) {\n",
              "          const element = document.querySelector('#df-eaea9bbf-ec45-4512-84b6-9bd7fb153ce5');\n",
              "          const dataTable =\n",
              "            await google.colab.kernel.invokeFunction('convertToInteractive',\n",
              "                                                     [key], {});\n",
              "          if (!dataTable) return;\n",
              "\n",
              "          const docLinkHtml = 'Like what you see? Visit the ' +\n",
              "            '<a target=\"_blank\" href=https://colab.research.google.com/notebooks/data_table.ipynb>data table notebook</a>'\n",
              "            + ' to learn more about interactive tables.';\n",
              "          element.innerHTML = '';\n",
              "          dataTable['output_type'] = 'display_data';\n",
              "          await google.colab.output.renderOutput(dataTable, element);\n",
              "          const docLink = document.createElement('div');\n",
              "          docLink.innerHTML = docLinkHtml;\n",
              "          element.appendChild(docLink);\n",
              "        }\n",
              "      </script>\n",
              "    </div>\n",
              "  </div>\n",
              "  "
            ]
          },
          "metadata": {},
          "execution_count": 91
        }
      ]
    },
    {
      "cell_type": "markdown",
      "source": [
        "#*In Rating column we have some null values. To remove these values we'll calculate median of this column by creating function*"
      ],
      "metadata": {
        "id": "DsShhaIFmuv6"
      }
    },
    {
      "cell_type": "code",
      "source": [
        "playSdata['Rating'].describe()"
      ],
      "metadata": {
        "colab": {
          "base_uri": "https://localhost:8080/"
        },
        "id": "QpbUCE1YEJgD",
        "outputId": "17f0ad25-3b11-4f71-a12e-e2442566ee3b"
      },
      "execution_count": 92,
      "outputs": [
        {
          "output_type": "execute_result",
          "data": {
            "text/plain": [
              "count    9366.000000\n",
              "mean        4.191757\n",
              "std         0.515219\n",
              "min         1.000000\n",
              "25%         4.000000\n",
              "50%         4.300000\n",
              "75%         4.500000\n",
              "max         5.000000\n",
              "Name: Rating, dtype: float64"
            ]
          },
          "metadata": {},
          "execution_count": 92
        }
      ]
    },
    {
      "cell_type": "code",
      "source": [
        "def cal_median(series):\n",
        "  return series.fillna(series.median())"
      ],
      "metadata": {
        "id": "azAbK76_JoXA"
      },
      "execution_count": 93,
      "outputs": []
    },
    {
      "cell_type": "code",
      "source": [
        "playSdata.Rating = playSdata['Rating'].transform(cal_median)"
      ],
      "metadata": {
        "id": "KrqB3w65J-ZX"
      },
      "execution_count": 94,
      "outputs": []
    },
    {
      "cell_type": "code",
      "source": [
        "playSdata.isnull().sum()"
      ],
      "metadata": {
        "colab": {
          "base_uri": "https://localhost:8080/"
        },
        "id": "V9KkNRjZj6jU",
        "outputId": "59076a95-2a66-4ebe-e8dd-29744dec771d"
      },
      "execution_count": 95,
      "outputs": [
        {
          "output_type": "execute_result",
          "data": {
            "text/plain": [
              "App               0\n",
              "Category          0\n",
              "Rating            0\n",
              "Reviews           0\n",
              "Size              0\n",
              "Installs          0\n",
              "Type              1\n",
              "Price             0\n",
              "Content_Rating    0\n",
              "Genres            0\n",
              "Last_Updated      0\n",
              "Current_Ver       8\n",
              "Android_Ver       2\n",
              "dtype: int64"
            ]
          },
          "metadata": {},
          "execution_count": 95
        }
      ]
    },
    {
      "cell_type": "markdown",
      "source": [
        "#*Now we will apply mode for same the 'Current_Ver,Android__Ver, Type'*"
      ],
      "metadata": {
        "id": "EkFJSzLUnVaU"
      }
    },
    {
      "cell_type": "code",
      "source": [
        "print(playSdata['Type'].mode())"
      ],
      "metadata": {
        "colab": {
          "base_uri": "https://localhost:8080/"
        },
        "id": "0DGlrNdtm6I5",
        "outputId": "9a72fb34-01a6-4463-90a1-f6a40bdc6ef3"
      },
      "execution_count": 96,
      "outputs": [
        {
          "output_type": "stream",
          "name": "stdout",
          "text": [
            "0    Free\n",
            "dtype: object\n"
          ]
        }
      ]
    },
    {
      "cell_type": "code",
      "source": [
        "print(playSdata['Current_Ver'].mode())"
      ],
      "metadata": {
        "colab": {
          "base_uri": "https://localhost:8080/"
        },
        "id": "S_dV5A7UnbRs",
        "outputId": "22171d92-4c31-4a13-b349-5dd7dc86ee1f"
      },
      "execution_count": 97,
      "outputs": [
        {
          "output_type": "stream",
          "name": "stdout",
          "text": [
            "0    Varies with device\n",
            "dtype: object\n"
          ]
        }
      ]
    },
    {
      "cell_type": "code",
      "source": [
        "print(playSdata['Android_Ver'].mode())"
      ],
      "metadata": {
        "colab": {
          "base_uri": "https://localhost:8080/"
        },
        "id": "z5U8hsOinkpf",
        "outputId": "00837107-d6bd-42fc-c106-7f16983c631f"
      },
      "execution_count": 98,
      "outputs": [
        {
          "output_type": "stream",
          "name": "stdout",
          "text": [
            "0    4.1 and up\n",
            "dtype: object\n"
          ]
        }
      ]
    },
    {
      "cell_type": "markdown",
      "source": [
        "#*Now we'll fill these categorial values with mode*"
      ],
      "metadata": {
        "id": "ycQT9rYdspba"
      }
    },
    {
      "cell_type": "code",
      "source": [
        "playSdata['Type'].fillna(str(playSdata['Type'].mode().values[0]),inplace=True)"
      ],
      "metadata": {
        "id": "PdDg1Ygtqnl3"
      },
      "execution_count": 99,
      "outputs": []
    },
    {
      "cell_type": "code",
      "source": [
        "playSdata['Current_Ver'].fillna(str(playSdata['Current_Ver'].mode().values[0]),inplace=True)"
      ],
      "metadata": {
        "id": "JBT25hl9tp4h"
      },
      "execution_count": 100,
      "outputs": []
    },
    {
      "cell_type": "code",
      "source": [
        "playSdata['Android_Ver'].fillna(str(playSdata['Android_Ver'].mode().values[0]),inplace=True)"
      ],
      "metadata": {
        "id": "6KkuVVXstu-S"
      },
      "execution_count": 101,
      "outputs": []
    },
    {
      "cell_type": "code",
      "source": [
        "playSdata['Content_Rating'].fillna(str(playSdata['Content_Rating'].mode().values[0]),inplace=True)"
      ],
      "metadata": {
        "id": "3D-W1Xd0Io38"
      },
      "execution_count": 102,
      "outputs": []
    },
    {
      "cell_type": "code",
      "source": [
        "playSdata.isnull().sum()"
      ],
      "metadata": {
        "colab": {
          "base_uri": "https://localhost:8080/"
        },
        "id": "lE4bFnmi403Z",
        "outputId": "2674433b-2af8-41b9-e5ba-fe87e366338c"
      },
      "execution_count": 103,
      "outputs": [
        {
          "output_type": "execute_result",
          "data": {
            "text/plain": [
              "App               0\n",
              "Category          0\n",
              "Rating            0\n",
              "Reviews           0\n",
              "Size              0\n",
              "Installs          0\n",
              "Type              0\n",
              "Price             0\n",
              "Content_Rating    0\n",
              "Genres            0\n",
              "Last_Updated      0\n",
              "Current_Ver       0\n",
              "Android_Ver       0\n",
              "dtype: int64"
            ]
          },
          "metadata": {},
          "execution_count": 103
        }
      ]
    },
    {
      "cell_type": "markdown",
      "source": [
        "#*We can also see that above information about data there is a Price column which has all numeric float values plus there is '$' sign we will remove it and convert into float values.'*"
      ],
      "metadata": {
        "id": "FwWPDer-oOmZ"
      }
    },
    {
      "cell_type": "code",
      "source": [
        "playSdata['Price'].unique()"
      ],
      "metadata": {
        "colab": {
          "base_uri": "https://localhost:8080/"
        },
        "id": "rx1KuUbAnv1A",
        "outputId": "3903ea7a-c84e-4d70-fae9-75380bd83fec"
      },
      "execution_count": 104,
      "outputs": [
        {
          "output_type": "execute_result",
          "data": {
            "text/plain": [
              "array(['0', '$4.99', '$3.99', '$6.99', '$1.49', '$2.99', '$7.99', '$5.99',\n",
              "       '$3.49', '$1.99', '$9.99', '$7.49', '$0.99', '$9.00', '$5.49',\n",
              "       '$10.00', '$24.99', '$11.99', '$79.99', '$16.99', '$14.99',\n",
              "       '$1.00', '$29.99', '$12.99', '$2.49', '$10.99', '$1.50', '$19.99',\n",
              "       '$15.99', '$33.99', '$74.99', '$39.99', '$3.95', '$4.49', '$1.70',\n",
              "       '$8.99', '$2.00', '$3.88', '$25.99', '$399.99', '$17.99',\n",
              "       '$400.00', '$3.02', '$1.76', '$4.84', '$4.77', '$1.61', '$2.50',\n",
              "       '$1.59', '$6.49', '$1.29', '$5.00', '$13.99', '$299.99', '$379.99',\n",
              "       '$37.99', '$18.99', '$389.99', '$19.90', '$8.49', '$1.75',\n",
              "       '$14.00', '$4.85', '$46.99', '$109.99', '$154.99', '$3.08',\n",
              "       '$2.59', '$4.80', '$1.96', '$19.40', '$3.90', '$4.59', '$15.46',\n",
              "       '$3.04', '$4.29', '$2.60', '$3.28', '$4.60', '$28.99', '$2.95',\n",
              "       '$2.90', '$1.97', '$200.00', '$89.99', '$2.56', '$30.99', '$3.61',\n",
              "       '$394.99', '$1.26', '$1.20', '$1.04'], dtype=object)"
            ]
          },
          "metadata": {},
          "execution_count": 104
        }
      ]
    },
    {
      "cell_type": "code",
      "source": [
        "playSdata['Price'] = playSdata['Price'].apply(lambda row: str(row).replace('$','') if '$' in str(row) else str(row))\n",
        "\n",
        "playSdata['Price'] = playSdata['Price'].apply(lambda row: float(row))\n",
        "\n",
        "playSdata['Price'].sample(20)"
      ],
      "metadata": {
        "colab": {
          "base_uri": "https://localhost:8080/"
        },
        "id": "n8VYXCD-oUKw",
        "outputId": "0dbaf99a-6d2f-4fee-9931-4b1c3c1532b7"
      },
      "execution_count": 105,
      "outputs": [
        {
          "output_type": "execute_result",
          "data": {
            "text/plain": [
              "2956     0.00\n",
              "1985     0.00\n",
              "5173     0.00\n",
              "6508     0.99\n",
              "5637     0.00\n",
              "2417     0.00\n",
              "7702     0.00\n",
              "8103     0.00\n",
              "7008     0.00\n",
              "3970     0.00\n",
              "2610     0.00\n",
              "10104    0.00\n",
              "10460    1.00\n",
              "5091     0.00\n",
              "8076     0.00\n",
              "3403     2.49\n",
              "10085    0.00\n",
              "8704     0.00\n",
              "3690     0.00\n",
              "869      0.00\n",
              "Name: Price, dtype: float64"
            ]
          },
          "metadata": {},
          "execution_count": 105
        }
      ]
    },
    {
      "cell_type": "markdown",
      "source": [
        "#*Again we can see that in Reviews column there are object type but these are numeric values. So, we'll convert them completely in Numerical data.*"
      ],
      "metadata": {
        "id": "__bL8pe_79vh"
      }
    },
    {
      "cell_type": "code",
      "source": [
        "playSdata['Reviews'] =pd.to_numeric( playSdata['Reviews'],errors='coerce')"
      ],
      "metadata": {
        "id": "3JG2Wur7rXA0"
      },
      "execution_count": 106,
      "outputs": []
    },
    {
      "cell_type": "markdown",
      "source": [
        "#*Also in \"Installs\" there \"+\" and \",\" sign after the value. So, it also to be done as same as \"Price\"*"
      ],
      "metadata": {
        "id": "5H0zyXE--Bmw"
      }
    },
    {
      "cell_type": "code",
      "source": [
        "playSdata['Installs'].sample(5)"
      ],
      "metadata": {
        "colab": {
          "base_uri": "https://localhost:8080/"
        },
        "id": "UNz77Leu_A4Q",
        "outputId": "765d74e4-1241-4ca7-d87d-b9dd99afc67e"
      },
      "execution_count": 107,
      "outputs": [
        {
          "output_type": "execute_result",
          "data": {
            "text/plain": [
              "8859            500+\n",
              "5096            100+\n",
              "3922    100,000,000+\n",
              "8775      1,000,000+\n",
              "4955         10,000+\n",
              "Name: Installs, dtype: object"
            ]
          },
          "metadata": {},
          "execution_count": 107
        }
      ]
    },
    {
      "cell_type": "code",
      "source": [
        "playSdata['Installs'] = playSdata['Installs'].apply(lambda row: str(row).replace(\"+\",\"\") if \"+\" in str(row) else str(row))\n",
        "\n",
        "playSdata['Installs'] = playSdata['Installs'].apply(lambda row: str(row).replace(\",\",\"\") if \",\" in str(row) else str(row))"
      ],
      "metadata": {
        "id": "ktrErbtn94U_"
      },
      "execution_count": 108,
      "outputs": []
    },
    {
      "cell_type": "code",
      "source": [
        "playSdata['Installs'] = playSdata['Installs'].apply(lambda row: int(row))\n",
        "playSdata['Installs'].sample(5)"
      ],
      "metadata": {
        "colab": {
          "base_uri": "https://localhost:8080/"
        },
        "id": "D9kAiqjz_abd",
        "outputId": "4926f87b-c2b7-41ac-9bcd-e4aa451c288d"
      },
      "execution_count": 116,
      "outputs": [
        {
          "output_type": "execute_result",
          "data": {
            "text/plain": [
              "4627     1000000\n",
              "6352      500000\n",
              "8194    10000000\n",
              "1292    10000000\n",
              "3727     1000000\n",
              "Name: Installs, dtype: int64"
            ]
          },
          "metadata": {},
          "execution_count": 116
        }
      ]
    },
    {
      "cell_type": "markdown",
      "source": [
        "#*For size also \"M\" and \"K\" is appearing, Which \"M\" means MB and \"k\" means KB we'll remove it and convert it as numeric values.*"
      ],
      "metadata": {
        "id": "EJek6mbVYXtR"
      }
    },
    {
      "cell_type": "code",
      "source": [
        "# playSdata['Size'].unique()"
      ],
      "metadata": {
        "id": "WvSMynv-dIN7"
      },
      "execution_count": 123,
      "outputs": []
    },
    {
      "cell_type": "code",
      "source": [
        "def reamove(a):\n",
        "  \"\"\"This function takes a string and replace the following characters if present, '+', ',' ,'$', 'M', 'k', 'NaN'\"\"\"\n",
        "  if \"M\" in a:\n",
        "    # We Are Replacing \"M\" and multiplying with 1000000\n",
        "    a = str(int(float(a.replace(\"M\",\"\"))*1000000))\n",
        "  if \"k\" in a:\n",
        "    # We Are Replacing \"k\" and multiplying with 1000\n",
        "    a = str(int(float(a.replace(\"k\",\"\"))*1000))\n",
        "  if \"NaN\" in a:\n",
        "    a = \"0\"\n",
        "  else:\n",
        "    pass\n",
        "  return a\n"
      ],
      "metadata": {
        "id": "Ideo1yyieS_Y"
      },
      "execution_count": 117,
      "outputs": []
    },
    {
      "cell_type": "code",
      "source": [
        "playSdata.info()"
      ],
      "metadata": {
        "colab": {
          "base_uri": "https://localhost:8080/"
        },
        "id": "0s1kFlheAG6r",
        "outputId": "f15afa22-583d-42de-a8dd-c01cb9e68e60"
      },
      "execution_count": 118,
      "outputs": [
        {
          "output_type": "stream",
          "name": "stdout",
          "text": [
            "<class 'pandas.core.frame.DataFrame'>\n",
            "Int64Index: 10840 entries, 0 to 10840\n",
            "Data columns (total 13 columns):\n",
            " #   Column          Non-Null Count  Dtype  \n",
            "---  ------          --------------  -----  \n",
            " 0   App             10840 non-null  object \n",
            " 1   Category        10840 non-null  object \n",
            " 2   Rating          10840 non-null  float64\n",
            " 3   Reviews         10840 non-null  int64  \n",
            " 4   Size            10840 non-null  int64  \n",
            " 5   Installs        10840 non-null  int64  \n",
            " 6   Type            10840 non-null  object \n",
            " 7   Price           10840 non-null  float64\n",
            " 8   Content_Rating  10840 non-null  object \n",
            " 9   Genres          10840 non-null  object \n",
            " 10  Last_Updated    10840 non-null  object \n",
            " 11  Current_Ver     10840 non-null  object \n",
            " 12  Android_Ver     10840 non-null  object \n",
            "dtypes: float64(2), int64(3), object(8)\n",
            "memory usage: 1.2+ MB\n"
          ]
        }
      ]
    },
    {
      "cell_type": "code",
      "source": [
        "# Changing the size column values in numeric values\n",
        "playSdata['Size'] = playSdata['Size'].apply(lambda x: str(x).replace('Varies with device', 'NaN') if 'Varies with device' in str(x) else x)\n",
        "playSdata['Size'] = pd.to_numeric(playSdata['Size'].map(lambda x: reamove(x)))"
      ],
      "metadata": {
        "id": "Aj3azHqLf-H5"
      },
      "execution_count": 112,
      "outputs": []
    },
    {
      "cell_type": "markdown",
      "source": [
        "#*Now we will handle the duplicates in App column. Because in column app having number of duplicates which are not necessary in data.*"
      ],
      "metadata": {
        "id": "rA8Htm1AsFzd"
      }
    },
    {
      "cell_type": "code",
      "source": [
        "playSdata['App'].value_counts()"
      ],
      "metadata": {
        "colab": {
          "base_uri": "https://localhost:8080/"
        },
        "id": "iIUxmW_4sFNt",
        "outputId": "0c8d6fb4-62b7-4542-f213-c9958ecb7de7"
      },
      "execution_count": 125,
      "outputs": [
        {
          "output_type": "execute_result",
          "data": {
            "text/plain": [
              "ROBLOX                                                9\n",
              "CBS Sports App - Scores, News, Stats & Watch Live     8\n",
              "ESPN                                                  7\n",
              "Duolingo: Learn Languages Free                        7\n",
              "Candy Crush Saga                                      7\n",
              "                                                     ..\n",
              "Meet U - Get Friends for Snapchat, Kik & Instagram    1\n",
              "U-Report                                              1\n",
              "U of I Community Credit Union                         1\n",
              "Waiting For U Launcher Theme                          1\n",
              "iHoroscope - 2018 Daily Horoscope & Astrology         1\n",
              "Name: App, Length: 9659, dtype: int64"
            ]
          },
          "metadata": {},
          "execution_count": 125
        }
      ]
    },
    {
      "cell_type": "markdown",
      "source": [
        "#*Above we will remove these duplicates from App*"
      ],
      "metadata": {
        "id": "RFaOfrhis8lk"
      }
    },
    {
      "cell_type": "code",
      "source": [
        "playSdata.drop_duplicates(subset='App',inplace=True)"
      ],
      "metadata": {
        "id": "6chGCjU5s2By"
      },
      "execution_count": 129,
      "outputs": []
    },
    {
      "cell_type": "markdown",
      "source": [
        "#*Finally, I have clean the all data whatever was garbage in our data. Now will see the summary stats after cleaning our data.*"
      ],
      "metadata": {
        "id": "bHA7mkfiBeMQ"
      }
    },
    {
      "cell_type": "code",
      "source": [
        "playSdata.describe()"
      ],
      "metadata": {
        "id": "tt0VetznBb0W",
        "colab": {
          "base_uri": "https://localhost:8080/",
          "height": 300
        },
        "outputId": "4ea5dd55-1e2c-4f8d-e7e0-2b5878a0ff69"
      },
      "execution_count": 130,
      "outputs": [
        {
          "output_type": "execute_result",
          "data": {
            "text/plain": [
              "            Rating       Reviews          Size      Installs        Price\n",
              "count  9659.000000  9.659000e+03  9.659000e+03  9.659000e+03  9659.000000\n",
              "mean      4.192442  2.165926e+05  1.780444e+07  7.777507e+06     1.099299\n",
              "std       0.496397  1.831320e+06  2.149524e+07  5.375828e+07    16.852152\n",
              "min       1.000000  0.000000e+00  0.000000e+00  0.000000e+00     0.000000\n",
              "25%       4.000000  2.500000e+01  2.900000e+06  1.000000e+03     0.000000\n",
              "50%       4.300000  9.670000e+02  9.100000e+06  1.000000e+05     0.000000\n",
              "75%       4.500000  2.940100e+04  2.500000e+07  1.000000e+06     0.000000\n",
              "max       5.000000  7.815831e+07  1.000000e+08  1.000000e+09   400.000000"
            ],
            "text/html": [
              "\n",
              "  <div id=\"df-3a3dee50-d588-4918-9564-aad30b5f5f36\">\n",
              "    <div class=\"colab-df-container\">\n",
              "      <div>\n",
              "<style scoped>\n",
              "    .dataframe tbody tr th:only-of-type {\n",
              "        vertical-align: middle;\n",
              "    }\n",
              "\n",
              "    .dataframe tbody tr th {\n",
              "        vertical-align: top;\n",
              "    }\n",
              "\n",
              "    .dataframe thead th {\n",
              "        text-align: right;\n",
              "    }\n",
              "</style>\n",
              "<table border=\"1\" class=\"dataframe\">\n",
              "  <thead>\n",
              "    <tr style=\"text-align: right;\">\n",
              "      <th></th>\n",
              "      <th>Rating</th>\n",
              "      <th>Reviews</th>\n",
              "      <th>Size</th>\n",
              "      <th>Installs</th>\n",
              "      <th>Price</th>\n",
              "    </tr>\n",
              "  </thead>\n",
              "  <tbody>\n",
              "    <tr>\n",
              "      <th>count</th>\n",
              "      <td>9659.000000</td>\n",
              "      <td>9.659000e+03</td>\n",
              "      <td>9.659000e+03</td>\n",
              "      <td>9.659000e+03</td>\n",
              "      <td>9659.000000</td>\n",
              "    </tr>\n",
              "    <tr>\n",
              "      <th>mean</th>\n",
              "      <td>4.192442</td>\n",
              "      <td>2.165926e+05</td>\n",
              "      <td>1.780444e+07</td>\n",
              "      <td>7.777507e+06</td>\n",
              "      <td>1.099299</td>\n",
              "    </tr>\n",
              "    <tr>\n",
              "      <th>std</th>\n",
              "      <td>0.496397</td>\n",
              "      <td>1.831320e+06</td>\n",
              "      <td>2.149524e+07</td>\n",
              "      <td>5.375828e+07</td>\n",
              "      <td>16.852152</td>\n",
              "    </tr>\n",
              "    <tr>\n",
              "      <th>min</th>\n",
              "      <td>1.000000</td>\n",
              "      <td>0.000000e+00</td>\n",
              "      <td>0.000000e+00</td>\n",
              "      <td>0.000000e+00</td>\n",
              "      <td>0.000000</td>\n",
              "    </tr>\n",
              "    <tr>\n",
              "      <th>25%</th>\n",
              "      <td>4.000000</td>\n",
              "      <td>2.500000e+01</td>\n",
              "      <td>2.900000e+06</td>\n",
              "      <td>1.000000e+03</td>\n",
              "      <td>0.000000</td>\n",
              "    </tr>\n",
              "    <tr>\n",
              "      <th>50%</th>\n",
              "      <td>4.300000</td>\n",
              "      <td>9.670000e+02</td>\n",
              "      <td>9.100000e+06</td>\n",
              "      <td>1.000000e+05</td>\n",
              "      <td>0.000000</td>\n",
              "    </tr>\n",
              "    <tr>\n",
              "      <th>75%</th>\n",
              "      <td>4.500000</td>\n",
              "      <td>2.940100e+04</td>\n",
              "      <td>2.500000e+07</td>\n",
              "      <td>1.000000e+06</td>\n",
              "      <td>0.000000</td>\n",
              "    </tr>\n",
              "    <tr>\n",
              "      <th>max</th>\n",
              "      <td>5.000000</td>\n",
              "      <td>7.815831e+07</td>\n",
              "      <td>1.000000e+08</td>\n",
              "      <td>1.000000e+09</td>\n",
              "      <td>400.000000</td>\n",
              "    </tr>\n",
              "  </tbody>\n",
              "</table>\n",
              "</div>\n",
              "      <button class=\"colab-df-convert\" onclick=\"convertToInteractive('df-3a3dee50-d588-4918-9564-aad30b5f5f36')\"\n",
              "              title=\"Convert this dataframe to an interactive table.\"\n",
              "              style=\"display:none;\">\n",
              "        \n",
              "  <svg xmlns=\"http://www.w3.org/2000/svg\" height=\"24px\"viewBox=\"0 0 24 24\"\n",
              "       width=\"24px\">\n",
              "    <path d=\"M0 0h24v24H0V0z\" fill=\"none\"/>\n",
              "    <path d=\"M18.56 5.44l.94 2.06.94-2.06 2.06-.94-2.06-.94-.94-2.06-.94 2.06-2.06.94zm-11 1L8.5 8.5l.94-2.06 2.06-.94-2.06-.94L8.5 2.5l-.94 2.06-2.06.94zm10 10l.94 2.06.94-2.06 2.06-.94-2.06-.94-.94-2.06-.94 2.06-2.06.94z\"/><path d=\"M17.41 7.96l-1.37-1.37c-.4-.4-.92-.59-1.43-.59-.52 0-1.04.2-1.43.59L10.3 9.45l-7.72 7.72c-.78.78-.78 2.05 0 2.83L4 21.41c.39.39.9.59 1.41.59.51 0 1.02-.2 1.41-.59l7.78-7.78 2.81-2.81c.8-.78.8-2.07 0-2.86zM5.41 20L4 18.59l7.72-7.72 1.47 1.35L5.41 20z\"/>\n",
              "  </svg>\n",
              "      </button>\n",
              "      \n",
              "  <style>\n",
              "    .colab-df-container {\n",
              "      display:flex;\n",
              "      flex-wrap:wrap;\n",
              "      gap: 12px;\n",
              "    }\n",
              "\n",
              "    .colab-df-convert {\n",
              "      background-color: #E8F0FE;\n",
              "      border: none;\n",
              "      border-radius: 50%;\n",
              "      cursor: pointer;\n",
              "      display: none;\n",
              "      fill: #1967D2;\n",
              "      height: 32px;\n",
              "      padding: 0 0 0 0;\n",
              "      width: 32px;\n",
              "    }\n",
              "\n",
              "    .colab-df-convert:hover {\n",
              "      background-color: #E2EBFA;\n",
              "      box-shadow: 0px 1px 2px rgba(60, 64, 67, 0.3), 0px 1px 3px 1px rgba(60, 64, 67, 0.15);\n",
              "      fill: #174EA6;\n",
              "    }\n",
              "\n",
              "    [theme=dark] .colab-df-convert {\n",
              "      background-color: #3B4455;\n",
              "      fill: #D2E3FC;\n",
              "    }\n",
              "\n",
              "    [theme=dark] .colab-df-convert:hover {\n",
              "      background-color: #434B5C;\n",
              "      box-shadow: 0px 1px 3px 1px rgba(0, 0, 0, 0.15);\n",
              "      filter: drop-shadow(0px 1px 2px rgba(0, 0, 0, 0.3));\n",
              "      fill: #FFFFFF;\n",
              "    }\n",
              "  </style>\n",
              "\n",
              "      <script>\n",
              "        const buttonEl =\n",
              "          document.querySelector('#df-3a3dee50-d588-4918-9564-aad30b5f5f36 button.colab-df-convert');\n",
              "        buttonEl.style.display =\n",
              "          google.colab.kernel.accessAllowed ? 'block' : 'none';\n",
              "\n",
              "        async function convertToInteractive(key) {\n",
              "          const element = document.querySelector('#df-3a3dee50-d588-4918-9564-aad30b5f5f36');\n",
              "          const dataTable =\n",
              "            await google.colab.kernel.invokeFunction('convertToInteractive',\n",
              "                                                     [key], {});\n",
              "          if (!dataTable) return;\n",
              "\n",
              "          const docLinkHtml = 'Like what you see? Visit the ' +\n",
              "            '<a target=\"_blank\" href=https://colab.research.google.com/notebooks/data_table.ipynb>data table notebook</a>'\n",
              "            + ' to learn more about interactive tables.';\n",
              "          element.innerHTML = '';\n",
              "          dataTable['output_type'] = 'display_data';\n",
              "          await google.colab.output.renderOutput(dataTable, element);\n",
              "          const docLink = document.createElement('div');\n",
              "          docLink.innerHTML = docLinkHtml;\n",
              "          element.appendChild(docLink);\n",
              "        }\n",
              "      </script>\n",
              "    </div>\n",
              "  </div>\n",
              "  "
            ]
          },
          "metadata": {},
          "execution_count": 130
        }
      ]
    },
    {
      "cell_type": "code",
      "source": [
        "playSdata.info()"
      ],
      "metadata": {
        "id": "ldirVebraum8",
        "colab": {
          "base_uri": "https://localhost:8080/"
        },
        "outputId": "183a423d-434c-4bcd-fe94-07b446a9d1a1"
      },
      "execution_count": 131,
      "outputs": [
        {
          "output_type": "stream",
          "name": "stdout",
          "text": [
            "<class 'pandas.core.frame.DataFrame'>\n",
            "Int64Index: 9659 entries, 0 to 10840\n",
            "Data columns (total 13 columns):\n",
            " #   Column          Non-Null Count  Dtype  \n",
            "---  ------          --------------  -----  \n",
            " 0   App             9659 non-null   object \n",
            " 1   Category        9659 non-null   object \n",
            " 2   Rating          9659 non-null   float64\n",
            " 3   Reviews         9659 non-null   int64  \n",
            " 4   Size            9659 non-null   int64  \n",
            " 5   Installs        9659 non-null   int64  \n",
            " 6   Type            9659 non-null   object \n",
            " 7   Price           9659 non-null   float64\n",
            " 8   Content_Rating  9659 non-null   object \n",
            " 9   Genres          9659 non-null   object \n",
            " 10  Last_Updated    9659 non-null   object \n",
            " 11  Current_Ver     9659 non-null   object \n",
            " 12  Android_Ver     9659 non-null   object \n",
            "dtypes: float64(2), int64(3), object(8)\n",
            "memory usage: 1.0+ MB\n"
          ]
        }
      ]
    },
    {
      "cell_type": "code",
      "source": [
        "playSdata.shape"
      ],
      "metadata": {
        "id": "GE7vhyXPBuxQ",
        "colab": {
          "base_uri": "https://localhost:8080/"
        },
        "outputId": "172a928b-9e52-499c-862d-b5d77dd7f949"
      },
      "execution_count": 132,
      "outputs": [
        {
          "output_type": "execute_result",
          "data": {
            "text/plain": [
              "(9659, 13)"
            ]
          },
          "metadata": {},
          "execution_count": 132
        }
      ]
    },
    {
      "cell_type": "markdown",
      "source": [
        "#**Exploratory Data Analysis (EDA)**"
      ],
      "metadata": {
        "id": "9yXGg6GBYmPF"
      }
    },
    {
      "cell_type": "markdown",
      "source": [
        "#*So, let's begin by importing the `matplolib.pyplot` and `seaborn` and also we will fix the plot size, font size and all.*"
      ],
      "metadata": {
        "id": "UnOP32FLY-Qv"
      }
    },
    {
      "cell_type": "code",
      "source": [
        "import seaborn as sns\n",
        "import matplotlib\n",
        "import matplotlib.pyplot as plt\n",
        "%matplotlib inline\n",
        "\n",
        "sns.set_style('darkgrid')\n",
        "matplotlib.rcParams['font.size'] = 14\n",
        "matplotlib.rcParams['figure.figsize'] = (9, 5)\n",
        "matplotlib.rcParams['figure.facecolor'] = '#00000000'"
      ],
      "metadata": {
        "id": "wOHID9L-1GTe"
      },
      "execution_count": 134,
      "outputs": []
    },
    {
      "cell_type": "markdown",
      "source": [
        "##*we will get insights and learn the trends, pattern and answers of each questions which we are created to explore the data*"
      ],
      "metadata": {
        "id": "cZw_zawDvgIf"
      }
    },
    {
      "cell_type": "markdown",
      "source": [
        "###*1) Can we see what are the pinnacle classes withinside the play store, which includes the best wide variety of apps by Category?*"
      ],
      "metadata": {
        "id": "uK-rIwkYwNe4"
      }
    },
    {
      "cell_type": "code",
      "source": [
        "y = playSdata['Category'].value_counts().index\n",
        "x = playSdata['Category'].value_counts()\n",
        "x_range = []\n",
        "y_range = []\n",
        "for i in range(len(x)):\n",
        "    x_range.append(x[i])\n",
        "    y_range.append(y[i])"
      ],
      "metadata": {
        "id": "dzrV080LzN99"
      },
      "execution_count": 133,
      "outputs": []
    },
    {
      "cell_type": "markdown",
      "source": [
        "###*Here We have defined x axis and y axis*"
      ],
      "metadata": {
        "id": "4LHrcQ6705hc"
      }
    },
    {
      "cell_type": "code",
      "source": [
        "plt.figure(figsize=(18,13))\n",
        "plt.xlabel(\"Count\")\n",
        "plt.ylabel(\"Category\")\n",
        "\n",
        "graph = sns.barplot(x = x_range, y = y_range, palette= \"magma\")\n",
        "graph.set_title(\"Top categories Apps on Google Playstore\", fontsize = 25);"
      ],
      "metadata": {
        "colab": {
          "base_uri": "https://localhost:8080/",
          "height": 802
        },
        "id": "KpqHIF8q0tbl",
        "outputId": "c9c3fdf3-87ab-4b88-ddd7-771a96bf32b6"
      },
      "execution_count": 138,
      "outputs": [
        {
          "output_type": "display_data",
          "data": {
            "text/plain": [
              "<Figure size 1296x936 with 1 Axes>"
            ],
            "image/png": "[encoded data removed]"
          },
          "metadata": {
            "needs_background": "light"
          }
        }
      ]
    },
    {
      "cell_type": "markdown",
      "source": [
        "###*from above plot we can see that there are almost 33 categories. In this plot topmost are `FAMILY` and `GAMES` and least are `COMICS` and `BEAUTY` Category are present.*"
      ],
      "metadata": {
        "id": "X9f3ri7t2hrP"
      }
    },
    {
      "cell_type": "code",
      "source": [],
      "metadata": {
        "id": "p7a_fhKA2b6W"
      },
      "execution_count": null,
      "outputs": []
    },
    {
      "cell_type": "code",
      "source": [],
      "metadata": {
        "id": "To2A7gsj0spL"
      },
      "execution_count": null,
      "outputs": []
    }
  ]
}